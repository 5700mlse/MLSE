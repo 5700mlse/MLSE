{
 "cells": [
  {
   "cell_type": "code",
   "execution_count": 11,
   "metadata": {},
   "outputs": [],
   "source": [
    "import numpy as np\n",
    "import pandas as pd\n",
    "from sklearn.metrics import accuracy_score  \n",
    "from sklearn.metrics import recall_score  \n",
    "from sklearn.metrics import precision_score\n",
    "from sklearn.metrics import f1_score\n",
    "from sklearn.model_selection import GridSearchCV\n",
    "from sklearn.ensemble import RandomForestClassifier\n",
    "from sklearn.model_selection import train_test_split\n",
    "from sklearn import svm\n",
    "from sklearn.neural_network import MLPClassifier\n",
    "from sklearn.ensemble import AdaBoostClassifier\n",
    "from sklearn.linear_model import LogisticRegression \n",
    "from sklearn import neighbors\n",
    "from sklearn import tree\n",
    "from sklearn.ensemble import GradientBoostingClassifier\n",
    "from sklearn.neighbors import KNeighborsClassifier\n",
    "from sklearn.naive_bayes import GaussianNB\n",
    "from sklearn.naive_bayes import BernoulliNB\n",
    "import matplotlib.pyplot as plt"
   ]
  },
  {
   "cell_type": "code",
   "execution_count": 2,
   "metadata": {},
   "outputs": [],
   "source": [
    "def get_the_predicted_bugs(name, num1, num2):\n",
    "    All_Data = pd.read_csv(name, usecols = [i for i in range(num1, num2)]).values\n",
    "    return All_Data"
   ]
  },
  {
   "cell_type": "code",
   "execution_count": 3,
   "metadata": {},
   "outputs": [],
   "source": [
    "data = get_the_predicted_bugs('modified-eclipse-metrics-files-3.0.csv', 2, 202)"
   ]
  },
  {
   "cell_type": "markdown",
   "metadata": {},
   "source": [
    "## SVM"
   ]
  },
  {
   "cell_type": "markdown",
   "metadata": {},
   "source": [
    "## best f1_score"
   ]
  },
  {
   "cell_type": "code",
   "execution_count": 4,
   "metadata": {},
   "outputs": [],
   "source": [
    "def change_to_binary(x):\n",
    "    for i in range(len(x)):\n",
    "        if x[i] == 0:\n",
    "            continue\n",
    "        elif x[i] > 0:\n",
    "            x[i] = 1\n",
    "        else:\n",
    "            print('Wrong.')\n",
    "            return\n",
    "    return x"
   ]
  },
  {
   "cell_type": "code",
   "execution_count": 25,
   "metadata": {},
   "outputs": [],
   "source": [
    "data_random = np.random.permutation(data)\n",
    "x = data_random[:, 3:]\n",
    "y = change_to_binary(data_random[:, 1]) #post\n",
    "x_train, x_test, y_train, y_test = train_test_split(x, y, test_size = 0.2, random_state = 0)\n",
    "svc_clf = svm.SVC()"
   ]
  },
  {
   "cell_type": "code",
   "execution_count": 26,
   "metadata": {},
   "outputs": [],
   "source": [
    "param_grid = [\n",
    "             {\n",
    "                 'class_weight' : [{0 : 0.1, 1 : 0.9}, {0 : 0.11, 1 : 0.89}, {0 : 0.12, 1 : 0.88}, {0 : 0.13, 1 : 0.87},\n",
    "                                   {0 : 0.14, 1 : 0.86}, {0 : 0.15, 1 : 0.85}, {0 : 0.16, 1 : 0.84}, {0 : 0.17, 1 : 0.83},\n",
    "                                   {0 : 0.18, 1 : 0.82}, {0 : 0.19, 1 : 0.81}]\n",
    "             }\n",
    "             ]\n",
    "grid_search = GridSearchCV(svc_clf, param_grid, scoring = 'f1', n_jobs = -1, cv = 5)"
   ]
  },
  {
   "cell_type": "code",
   "execution_count": 27,
   "metadata": {},
   "outputs": [
    {
     "data": {
      "text/plain": [
       "GridSearchCV(cv=5, error_score='raise',\n",
       "       estimator=SVC(C=1.0, cache_size=200, class_weight=None, coef0=0.0,\n",
       "  decision_function_shape='ovr', degree=3, gamma='auto', kernel='rbf',\n",
       "  max_iter=-1, probability=False, random_state=None, shrinking=True,\n",
       "  tol=0.001, verbose=False),\n",
       "       fit_params=None, iid=True, n_jobs=-1,\n",
       "       param_grid=[{'class_weight': [{0: 0.1, 1: 0.9}, {0: 0.11, 1: 0.89}, {0: 0.12, 1: 0.88}, {0: 0.13, 1: 0.87}, {0: 0.14, 1: 0.86}, {0: 0.15, 1: 0.85}, {0: 0.16, 1: 0.84}, {0: 0.17, 1: 0.83}, {0: 0.18, 1: 0.82}, {0: 0.19, 1: 0.81}]}],\n",
       "       pre_dispatch='2*n_jobs', refit=True, return_train_score='warn',\n",
       "       scoring='f1', verbose=0)"
      ]
     },
     "execution_count": 27,
     "metadata": {},
     "output_type": "execute_result"
    }
   ],
   "source": [
    "grid_search.fit(x_train, y_train)"
   ]
  },
  {
   "cell_type": "code",
   "execution_count": 28,
   "metadata": {},
   "outputs": [
    {
     "data": {
      "text/plain": [
       "{'class_weight': {0: 0.18, 1: 0.82}}"
      ]
     },
     "execution_count": 28,
     "metadata": {},
     "output_type": "execute_result"
    }
   ],
   "source": [
    "grid_search.best_params_"
   ]
  },
  {
   "cell_type": "code",
   "execution_count": 29,
   "metadata": {},
   "outputs": [
    {
     "data": {
      "text/plain": [
       "SVC(C=1.0, cache_size=200, class_weight={0: 0.18, 1: 0.82}, coef0=0.0,\n",
       "  decision_function_shape='ovr', degree=3, gamma='auto', kernel='rbf',\n",
       "  max_iter=-1, probability=False, random_state=None, shrinking=True,\n",
       "  tol=0.001, verbose=False)"
      ]
     },
     "execution_count": 29,
     "metadata": {},
     "output_type": "execute_result"
    }
   ],
   "source": [
    "grid_search.best_estimator_"
   ]
  },
  {
   "cell_type": "code",
   "execution_count": 30,
   "metadata": {},
   "outputs": [
    {
     "data": {
      "text/plain": [
       "(0.5441245870693724,\n",
       " 0.8220064724919094,\n",
       " 0.21802575107296138,\n",
       " 0.34464043419267304)"
      ]
     },
     "execution_count": 30,
     "metadata": {},
     "output_type": "execute_result"
    }
   ],
   "source": [
    "y_pre = grid_search.best_estimator_.predict(x_test)\n",
    "accuracy_score(y_test, y_pre), recall_score(y_test, y_pre), precision_score(y_test, y_pre), f1_score(y_test, y_pre)"
   ]
  },
  {
   "cell_type": "markdown",
   "metadata": {},
   "source": [
    "## Get the average"
   ]
  },
  {
   "cell_type": "code",
   "execution_count": 31,
   "metadata": {},
   "outputs": [
    {
     "name": "stdout",
     "output_type": "stream",
     "text": [
      "0\n",
      "1\n",
      "2\n",
      "3\n",
      "4\n",
      "5\n",
      "6\n",
      "7\n",
      "8\n",
      "9\n"
     ]
    }
   ],
   "source": [
    "accuracy_score_list = []\n",
    "recall_score_list = []\n",
    "precision_score_list = []\n",
    "f1_score_list = []\n",
    "for i in range(10):\n",
    "    data_random = np.random.permutation(data)\n",
    "    x = data_random[:, 3:]\n",
    "    y = change_to_binary(data_random[:, 1])\n",
    "    x_train, x_test, y_train, y_test = train_test_split(x, y, test_size = 0.4, random_state = 0)\n",
    "    svc_clf = svm.SVC(class_weight =  {0: 0.18, 1: 0.82})\n",
    "    svc_clf.fit(x_train, y_train)\n",
    "    y_pre = svc_clf.predict(x_test)\n",
    "    accuracy_score_list.append(accuracy_score(y_test, y_pre))\n",
    "    recall_score_list.append(recall_score(y_test, y_pre))\n",
    "    precision_score_list.append(precision_score(y_test, y_pre))\n",
    "    f1_score_list.append(f1_score(y_test, y_pre))\n",
    "    print(i)"
   ]
  },
  {
   "cell_type": "code",
   "execution_count": 32,
   "metadata": {},
   "outputs": [
    {
     "data": {
      "text/plain": [
       "([0.5398773006134969,\n",
       "  0.5304388862671071,\n",
       "  0.5389334591788579,\n",
       "  0.5363378952336008,\n",
       "  0.525955639452572,\n",
       "  0.8449740443605475,\n",
       "  0.5252477583765928,\n",
       "  0.5320906087777253,\n",
       "  0.5363378952336008,\n",
       "  0.514865502595564],\n",
       " 0.5625058990089664)"
      ]
     },
     "execution_count": 32,
     "metadata": {},
     "output_type": "execute_result"
    }
   ],
   "source": [
    "accuracy_score_list, np.mean(accuracy_score_list)"
   ]
  },
  {
   "cell_type": "code",
   "execution_count": 33,
   "metadata": {},
   "outputs": [
    {
     "data": {
      "text/plain": [
       "([0.8618524332810047,\n",
       "  0.8872785829307569,\n",
       "  0.8748043818466353,\n",
       "  0.8786407766990292,\n",
       "  0.8712241653418124,\n",
       "  0.040059347181008904,\n",
       "  0.8305084745762712,\n",
       "  0.8516228748068007,\n",
       "  0.8809891808346213,\n",
       "  0.867430441898527],\n",
       " 0.7844410659396468)"
      ]
     },
     "execution_count": 33,
     "metadata": {},
     "output_type": "execute_result"
    }
   ],
   "source": [
    "recall_score_list, np.mean(recall_score_list)"
   ]
  },
  {
   "cell_type": "code",
   "execution_count": 34,
   "metadata": {},
   "outputs": [
    {
     "data": {
      "text/plain": [
       "([0.22770634591455827,\n",
       "  0.22298664508296237,\n",
       "  0.22975750102753803,\n",
       "  0.22318125770653513,\n",
       "  0.22132471728594508,\n",
       "  0.7297297297297297,\n",
       "  0.2208111429741909,\n",
       "  0.22600492206726824,\n",
       "  0.23189585028478438,\n",
       "  0.21157684630738524],\n",
       " 0.27449749583808974)"
      ]
     },
     "execution_count": 34,
     "metadata": {},
     "output_type": "execute_result"
    }
   ],
   "source": [
    "precision_score_list, np.mean(precision_score_list)"
   ]
  },
  {
   "cell_type": "code",
   "execution_count": 35,
   "metadata": {},
   "outputs": [
    {
     "data": {
      "text/plain": [
       "([0.3602362204724409,\n",
       "  0.3564036222509703,\n",
       "  0.36393229166666663,\n",
       "  0.3559488692232055,\n",
       "  0.3529790660225443,\n",
       "  0.0759493670886076,\n",
       "  0.34886731391585757,\n",
       "  0.35721231766612643,\n",
       "  0.3671497584541063,\n",
       "  0.34017971758664955],\n",
       " 0.3278858544347175)"
      ]
     },
     "execution_count": 35,
     "metadata": {},
     "output_type": "execute_result"
    }
   ],
   "source": [
    "f1_score_list, np.mean(f1_score_list)"
   ]
  },
  {
   "cell_type": "markdown",
   "metadata": {},
   "source": [
    "## best accuracy_score¶"
   ]
  },
  {
   "cell_type": "code",
   "execution_count": 36,
   "metadata": {},
   "outputs": [],
   "source": [
    "def change_to_binary(x):\n",
    "    for i in range(len(x)):\n",
    "        if x[i] == 0:\n",
    "            continue\n",
    "        elif x[i] > 0:\n",
    "            x[i] = 1\n",
    "        else:\n",
    "            print('Wrong.')\n",
    "            return\n",
    "    return x"
   ]
  },
  {
   "cell_type": "code",
   "execution_count": 37,
   "metadata": {},
   "outputs": [],
   "source": [
    "data_random = np.random.permutation(data)\n",
    "x = data_random[:, 3:]\n",
    "y = change_to_binary(data_random[:, 1]) #post\n",
    "x_train, x_test, y_train, y_test = train_test_split(x, y, test_size = 0.2, random_state = 0)\n",
    "svc_clf = svm.SVC()"
   ]
  },
  {
   "cell_type": "code",
   "execution_count": 38,
   "metadata": {},
   "outputs": [],
   "source": [
    "param_grid = [\n",
    "             {\n",
    "                 'class_weight' : [{0 : 0.1, 1 : 0.9}, {0 : 0.2, 1 : 0.8}, {0 : 0.3, 1 : 0.7}, {0 : 0.4, 1 : 0.6}]\n",
    "             }\n",
    "             ]\n",
    "grid_search = GridSearchCV(svc_clf, param_grid, scoring = 'accuracy', n_jobs = -1, cv = 5)"
   ]
  },
  {
   "cell_type": "code",
   "execution_count": 39,
   "metadata": {},
   "outputs": [
    {
     "data": {
      "text/plain": [
       "GridSearchCV(cv=5, error_score='raise',\n",
       "       estimator=SVC(C=1.0, cache_size=200, class_weight=None, coef0=0.0,\n",
       "  decision_function_shape='ovr', degree=3, gamma='auto', kernel='rbf',\n",
       "  max_iter=-1, probability=False, random_state=None, shrinking=True,\n",
       "  tol=0.001, verbose=False),\n",
       "       fit_params=None, iid=True, n_jobs=-1,\n",
       "       param_grid=[{'class_weight': [{0: 0.1, 1: 0.9}, {0: 0.2, 1: 0.8}, {0: 0.3, 1: 0.7}, {0: 0.4, 1: 0.6}]}],\n",
       "       pre_dispatch='2*n_jobs', refit=True, return_train_score='warn',\n",
       "       scoring='accuracy', verbose=0)"
      ]
     },
     "execution_count": 39,
     "metadata": {},
     "output_type": "execute_result"
    }
   ],
   "source": [
    "grid_search.fit(x_train, y_train)"
   ]
  },
  {
   "cell_type": "code",
   "execution_count": 40,
   "metadata": {},
   "outputs": [
    {
     "data": {
      "text/plain": [
       "{'class_weight': {0: 0.2, 1: 0.8}}"
      ]
     },
     "execution_count": 40,
     "metadata": {},
     "output_type": "execute_result"
    }
   ],
   "source": [
    "grid_search.best_params_"
   ]
  },
  {
   "cell_type": "code",
   "execution_count": 41,
   "metadata": {},
   "outputs": [
    {
     "data": {
      "text/plain": [
       "SVC(C=1.0, cache_size=200, class_weight={0: 0.2, 1: 0.8}, coef0=0.0,\n",
       "  decision_function_shape='ovr', degree=3, gamma='auto', kernel='rbf',\n",
       "  max_iter=-1, probability=False, random_state=None, shrinking=True,\n",
       "  tol=0.001, verbose=False)"
      ]
     },
     "execution_count": 41,
     "metadata": {},
     "output_type": "execute_result"
    }
   ],
   "source": [
    "grid_search.best_estimator_"
   ]
  },
  {
   "cell_type": "code",
   "execution_count": 42,
   "metadata": {},
   "outputs": [
    {
     "data": {
      "text/plain": [
       "(0.8404907975460123, 0.03977272727272727, 1.0, 0.07650273224043716)"
      ]
     },
     "execution_count": 42,
     "metadata": {},
     "output_type": "execute_result"
    }
   ],
   "source": [
    "y_pre = grid_search.best_estimator_.predict(x_test)\n",
    "accuracy_score(y_test, y_pre), recall_score(y_test, y_pre), precision_score(y_test, y_pre), f1_score(y_test, y_pre)"
   ]
  },
  {
   "cell_type": "markdown",
   "metadata": {},
   "source": [
    "## best accuracy_score¶"
   ]
  },
  {
   "cell_type": "code",
   "execution_count": 49,
   "metadata": {},
   "outputs": [
    {
     "name": "stdout",
     "output_type": "stream",
     "text": [
      "0\n",
      "1\n",
      "2\n",
      "3\n",
      "4\n",
      "5\n",
      "6\n",
      "7\n",
      "8\n",
      "9\n"
     ]
    }
   ],
   "source": [
    "accuracy_score_list = []\n",
    "recall_score_list = []\n",
    "precision_score_list = []\n",
    "f1_score_list = []\n",
    "for i in range(10):\n",
    "    data_random = np.random.permutation(data)\n",
    "    x = data_random[:, 3:]\n",
    "    y = change_to_binary(data_random[:, 1])\n",
    "    x_train, x_test, y_train, y_test = train_test_split(x, y, test_size = 0.4, random_state = 0)\n",
    "    svc_clf = svm.SVC(class_weight =  {0: 0.2, 1: 0.8})\n",
    "    svc_clf.fit(x_train, y_train)\n",
    "    y_pre = svc_clf.predict(x_test)\n",
    "    accuracy_score_list.append(accuracy_score(y_test, y_pre))\n",
    "    recall_score_list.append(recall_score(y_test, y_pre))\n",
    "    precision_score_list.append(precision_score(y_test, y_pre))\n",
    "    f1_score_list.append(f1_score(y_test, y_pre))\n",
    "    print(i)"
   ]
  },
  {
   "cell_type": "code",
   "execution_count": 50,
   "metadata": {},
   "outputs": [
    {
     "data": {
      "text/plain": [
       "([0.8577159037281736,\n",
       "  0.8520528551203398,\n",
       "  0.8539405379896178,\n",
       "  0.8551203397829165,\n",
       "  0.8513449740443606,\n",
       "  0.856536101934875,\n",
       "  0.855592260500236,\n",
       "  0.8560641812175555,\n",
       "  0.8539405379896178,\n",
       "  0.8534686172722983],\n",
       " 0.854577630957999)"
      ]
     },
     "execution_count": 50,
     "metadata": {},
     "output_type": "execute_result"
    }
   ],
   "source": [
    "accuracy_score_list, np.mean(accuracy_score_list)"
   ]
  },
  {
   "cell_type": "code",
   "execution_count": 51,
   "metadata": {},
   "outputs": [
    {
     "data": {
      "text/plain": [
       "([0.030844155844155844,\n",
       "  0.025157232704402517,\n",
       "  0.022292993630573247,\n",
       "  0.03322784810126582,\n",
       "  0.024922118380062305,\n",
       "  0.027331189710610933,\n",
       "  0.03949447077409163,\n",
       "  0.027375201288244767,\n",
       "  0.03129890453834116,\n",
       "  0.03453689167974882],\n",
       " 0.029648100665149703)"
      ]
     },
     "execution_count": 51,
     "metadata": {},
     "output_type": "execute_result"
    }
   ],
   "source": [
    "recall_score_list, np.mean(recall_score_list)"
   ]
  },
  {
   "cell_type": "code",
   "execution_count": 52,
   "metadata": {},
   "outputs": [
    {
     "data": {
      "text/plain": [
       "([0.76,\n",
       "  0.6956521739130435,\n",
       "  0.7368421052631579,\n",
       "  0.875,\n",
       "  0.8,\n",
       "  0.85,\n",
       "  0.8620689655172413,\n",
       "  0.7391304347826086,\n",
       "  1.0,\n",
       "  0.7857142857142857],\n",
       " 0.8104407965190337)"
      ]
     },
     "execution_count": 52,
     "metadata": {},
     "output_type": "execute_result"
    }
   ],
   "source": [
    "precision_score_list, np.mean(precision_score_list)"
   ]
  },
  {
   "cell_type": "code",
   "execution_count": 53,
   "metadata": {},
   "outputs": [
    {
     "data": {
      "text/plain": [
       "([0.05928237129485179,\n",
       "  0.048558421851289835,\n",
       "  0.043276661514683144,\n",
       "  0.06402439024390243,\n",
       "  0.04833836858006042,\n",
       "  0.0529595015576324,\n",
       "  0.0755287009063444,\n",
       "  0.052795031055900624,\n",
       "  0.06069802731411229,\n",
       "  0.06616541353383458],\n",
       " 0.057162688785261186)"
      ]
     },
     "execution_count": 53,
     "metadata": {},
     "output_type": "execute_result"
    }
   ],
   "source": [
    "f1_score_list, np.mean(f1_score_list)"
   ]
  }
 ],
 "metadata": {
  "kernelspec": {
   "display_name": "Python 3",
   "language": "python",
   "name": "python3"
  },
  "language_info": {
   "codemirror_mode": {
    "name": "ipython",
    "version": 3
   },
   "file_extension": ".py",
   "mimetype": "text/x-python",
   "name": "python",
   "nbconvert_exporter": "python",
   "pygments_lexer": "ipython3",
   "version": "3.6.5"
  }
 },
 "nbformat": 4,
 "nbformat_minor": 2
}
