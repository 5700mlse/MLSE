{
 "cells": [
  {
   "cell_type": "code",
   "execution_count": 2,
   "metadata": {},
   "outputs": [],
   "source": [
    "import xlrd\n",
    "import pandas as pd\n",
    "from pandas import DataFrame\n",
    "# import alamopy\n",
    "import numpy as np\n",
    "import matplotlib.pyplot as plt"
   ]
  },
  {
   "cell_type": "code",
   "execution_count": 2,
   "metadata": {},
   "outputs": [],
   "source": [
    "def modify_metrics(original_name, newname):\n",
    "    import csv\n",
    "    csv_file = csv.reader(open(original_name, 'r'))\n",
    "    for i in csv_file:\n",
    "        new_i = str(i).split(';')\n",
    "        out = open(newname, 'a', newline='')\n",
    "        csv_write = csv.writer(out, dialect='excel')\n",
    "        csv_write.writerow(new_i)\n",
    "    return"
   ]
  },
  {
   "cell_type": "code",
   "execution_count": 6,
   "metadata": {},
   "outputs": [],
   "source": [
    "# these lines should only be executed once\n",
    "modify_metrics('bug-metrics.csv', 'modified-bug-metrics.csv')\n",
    "modify_metrics('change-metrics.csv', 'modified-change-metrics.csv')\n",
    "modify_metrics('complexity-code-change.csv', 'modified-complexity-code-change.csv')\n",
    "modify_metrics('single-version-ck-oo.csv', 'modified-single-version-ck-oo.csv')"
   ]
  },
  {
   "cell_type": "code",
   "execution_count": 3,
   "metadata": {},
   "outputs": [],
   "source": [
    "data1 = pd.read_csv('modified-bug-metrics.csv')\n",
    "data2 = pd.read_csv('modified-change-metrics.csv')\n",
    "data3 = pd.read_csv('modified-complexity-code-change.csv')\n",
    "data4 = pd.read_csv('modified-single-version-ck-oo.csv')\n",
    "df1 = pd.DataFrame(data1)\n",
    "df2 = pd.DataFrame(data2)\n",
    "df3 = pd.DataFrame(data3)\n",
    "df4 = pd.DataFrame(data4)\n",
    "writer = pd.ExcelWriter('data.xlsx')\n",
    "df1.to_excel(writer, sheet_name = 'bug-metrics')\n",
    "df2.to_excel(writer, sheet_name = 'change-metrics')\n",
    "df3.to_excel(writer, sheet_name = 'complexity-code-change')\n",
    "df4.to_excel(writer, sheet_name = 'single-version-ck-oo')\n",
    "writer.save()\n",
    "writer.close()"
   ]
  },
  {
   "cell_type": "code",
   "execution_count": 4,
   "metadata": {},
   "outputs": [],
   "source": [
    "wb = xlrd.open_workbook('data.xlsx') \n",
    "d1 = pd.read_excel('data.xlsx', sheet_name = 'bug-metrics', usecols = [i for i in range(0, 7)], encoding='utf8')\n",
    "d2 = pd.read_excel('data.xlsx', sheet_name = 'change-metrics', usecols = [i for i in range(2, 17)], encoding='utf8')\n",
    "d3 = pd.read_excel('data.xlsx', sheet_name = 'complexity-code-change', usecols = [i for i in range(2, 7)], encoding='utf8')\n",
    "d4 = pd.read_excel('data.xlsx', sheet_name = 'single-version-ck-oo', usecols = [i for i in range(2, 24)], encoding='utf8')\n",
    "all_data = pd.concat([d1, d2, d3, d4], axis = 1)\n",
    "pd.DataFrame(all_data).to_csv('all_data.csv')"
   ]
  },
  {
   "cell_type": "code",
   "execution_count": 6,
   "metadata": {},
   "outputs": [],
   "source": [
    "# from sklearn.ensemble import RandomForestClassifier\n",
    "# forest_clf = RandomForestClassifier()\n",
    "# forest_clf.fit(x_train,y_train)"
   ]
  },
  {
   "cell_type": "code",
   "execution_count": 7,
   "metadata": {},
   "outputs": [],
   "source": [
    "# from sklearn.metrics import precision_score, recall_score\n",
    "# y_forest_predict = forest_clf.predict(x_train)\n",
    "# forst_precision = precision_score(y_train, y_forest_predict)\n",
    "# forst_recall = recall_score(y_train, y_forest_predict)\n",
    "# forst_precision, forst_recall"
   ]
  },
  {
   "cell_type": "code",
   "execution_count": 8,
   "metadata": {},
   "outputs": [],
   "source": [
    "# error = 0\n",
    "# for i in range(len(x_train)):\n",
    "#     if y_train[i] != forest_clf.predict([x_train[i]]):\n",
    "#         error += 1\n",
    "# error"
   ]
  },
  {
   "cell_type": "code",
   "execution_count": 147,
   "metadata": {},
   "outputs": [
    {
     "data": {
      "text/plain": [
       "MLPClassifier(activation='relu', alpha=0.0001, batch_size='auto', beta_1=0.9,\n",
       "       beta_2=0.999, early_stopping=False, epsilon=1e-08,\n",
       "       hidden_layer_sizes=(5, 10), learning_rate='constant',\n",
       "       learning_rate_init=0.001, max_iter=200, momentum=0.9,\n",
       "       nesterovs_momentum=True, power_t=0.5, random_state=None,\n",
       "       shuffle=True, solver='adam', tol=0.0001, validation_fraction=0.1,\n",
       "       verbose=False, warm_start=False)"
      ]
     },
     "execution_count": 147,
     "metadata": {},
     "output_type": "execute_result"
    }
   ],
   "source": [
    "from sklearn.ensemble import RandomForestClassifier\n",
    "from sklearn.model_selection import train_test_split\n",
    "from sklearn import svm\n",
    "from sklearn.neural_network import MLPClassifier\n",
    "x_train, x_test, y_train, y_test = train_test_split(x, y, test_size = 0.4, random_state = 0)\n",
    "# clf = svm.SVC(C = 1).fit(x_train, y_train)\n",
    "# clf.score(x_test, y_test)         \n",
    "# forest_clf = RandomForestClassifier()\n",
    "# forest_clf.fit(x_train, y_train)\n",
    "NN_clf = MLPClassifier(solver='adam', hidden_layer_sizes=(5, 10))\n",
    "NN_clf.fit(x_train, y_train)"
   ]
  },
  {
   "cell_type": "code",
   "execution_count": 30,
   "metadata": {},
   "outputs": [
    {
     "data": {
      "text/plain": [
       "0.8547579298831386"
      ]
     },
     "execution_count": 30,
     "metadata": {},
     "output_type": "execute_result"
    }
   ],
   "source": [
    "from sklearn.metrics import accuracy_score\n",
    "y_predict = NN_clf.predict(x_test)\n",
    "accuracy_score(y_test, y_predict)"
   ]
  },
  {
   "cell_type": "code",
   "execution_count": 148,
   "metadata": {},
   "outputs": [
    {
     "data": {
      "text/plain": [
       "0.1603563474387528"
      ]
     },
     "execution_count": 148,
     "metadata": {},
     "output_type": "execute_result"
    }
   ],
   "source": [
    "error = 0\n",
    "for k in range(len(x_train)):\n",
    "    if y_train[k] != NN_clf.predict([x_train[k]]):\n",
    "        error += 1\n",
    "error/len(x_train)"
   ]
  },
  {
   "cell_type": "code",
   "execution_count": 149,
   "metadata": {},
   "outputs": [
    {
     "data": {
      "text/plain": [
       "0.17195325542570952"
      ]
     },
     "execution_count": 149,
     "metadata": {},
     "output_type": "execute_result"
    }
   ],
   "source": [
    "error = 0\n",
    "for k in range(len(x_test)):\n",
    "    if y_test[k] != NN_clf.predict([x_test[k]]):\n",
    "        error += 1\n",
    "error/len(x_test)"
   ]
  },
  {
   "cell_type": "code",
   "execution_count": 146,
   "metadata": {},
   "outputs": [
    {
     "data": {
      "text/plain": [
       "197"
      ]
     },
     "execution_count": 146,
     "metadata": {},
     "output_type": "execute_result"
    }
   ],
   "source": [
    "error"
   ]
  }
 ],
 "metadata": {
  "kernelspec": {
   "display_name": "Python 3",
   "language": "python",
   "name": "python3"
  },
  "language_info": {
   "codemirror_mode": {
    "name": "ipython",
    "version": 3
   },
   "file_extension": ".py",
   "mimetype": "text/x-python",
   "name": "python",
   "nbconvert_exporter": "python",
   "pygments_lexer": "ipython3",
   "version": "3.7.1"
  }
 },
 "nbformat": 4,
 "nbformat_minor": 2
}
