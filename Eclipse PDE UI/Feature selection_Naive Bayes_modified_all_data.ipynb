{
 "cells": [
  {
   "cell_type": "code",
   "execution_count": 41,
   "metadata": {},
   "outputs": [],
   "source": [
    "import numpy as np\n",
    "import pandas as pd\n",
    "from sklearn.metrics import accuracy_score  \n",
    "from sklearn.metrics import recall_score  \n",
    "from sklearn.model_selection import GridSearchCV\n",
    "from sklearn.ensemble import RandomForestClassifier\n",
    "from sklearn.model_selection import train_test_split\n",
    "from sklearn import svm\n",
    "from sklearn.neural_network import MLPClassifier\n",
    "from sklearn.ensemble import AdaBoostClassifier\n",
    "from sklearn.linear_model import LogisticRegression \n",
    "from sklearn import neighbors\n",
    "from sklearn import tree\n",
    "from sklearn.ensemble import GradientBoostingClassifier\n",
    "from sklearn.neighbors import KNeighborsClassifier\n",
    "from sklearn.naive_bayes import GaussianNB\n",
    "from sklearn.naive_bayes import BernoulliNB\n",
    "from sklearn.feature_selection import VarianceThreshold\n",
    "from sklearn.feature_selection import SelectKBest\n",
    "from sklearn.feature_selection import f_classif\n",
    "from sklearn.feature_selection import mutual_info_classif\n",
    "from sklearn.svm import LinearSVC\n",
    "from sklearn.feature_selection import SelectFromModel\n",
    "from sklearn.ensemble import ExtraTreesClassifier\n",
    "import matplotlib.pyplot as plt"
   ]
  },
  {
   "cell_type": "markdown",
   "metadata": {},
   "source": [
    "## get the X_date, Y_target"
   ]
  },
  {
   "cell_type": "code",
   "execution_count": 2,
   "metadata": {},
   "outputs": [],
   "source": [
    "def get_the_predicted_bugs(name, num1, num2):\n",
    "    All_Data = pd.read_csv(name, usecols = [i for i in range(num1, num2)]).values\n",
    "    return All_Data"
   ]
  },
  {
   "cell_type": "code",
   "execution_count": 3,
   "metadata": {},
   "outputs": [],
   "source": [
    "data = get_the_predicted_bugs('modified_all_data.csv', 2, 45)"
   ]
  },
  {
   "cell_type": "markdown",
   "metadata": {},
   "source": [
    "## GaussianNB"
   ]
  },
  {
   "cell_type": "code",
   "execution_count": 4,
   "metadata": {},
   "outputs": [],
   "source": [
    "accuracy_score_list = []\n",
    "recall_score_list = []\n",
    "for i in range(100):\n",
    "    data_random = np.random.permutation(data)\n",
    "    x = data_random[:, [i for i in range(data.shape[1] - 1)]]\n",
    "    y = data_random[:, -1]\n",
    "    x_train, x_test, y_train, y_test = train_test_split(x, y, test_size = 0.4, random_state = 0)\n",
    "    gnb_clf = GaussianNB()\n",
    "    gnb_clf.fit(x_train, y_train)\n",
    "    \n",
    "    y_pre = gnb_clf.predict(x_test)\n",
    "    accuracy_score_list.append(accuracy_score(y_test, y_pre))\n",
    "    recall_score_list.append(recall_score(y_test, y_pre))"
   ]
  },
  {
   "cell_type": "code",
   "execution_count": 5,
   "metadata": {},
   "outputs": [
    {
     "data": {
      "text/plain": [
       "0.8320200333889817"
      ]
     },
     "execution_count": 5,
     "metadata": {},
     "output_type": "execute_result"
    }
   ],
   "source": [
    "np.mean(accuracy_score_list)"
   ]
  },
  {
   "cell_type": "code",
   "execution_count": 6,
   "metadata": {},
   "outputs": [
    {
     "data": {
      "text/plain": [
       "0.400132676676616"
      ]
     },
     "execution_count": 6,
     "metadata": {},
     "output_type": "execute_result"
    }
   ],
   "source": [
    "np.mean(recall_score_list)"
   ]
  },
  {
   "cell_type": "markdown",
   "metadata": {},
   "source": [
    "By GaussianNB, the average accuracy_score of 100 times is about is about 0.83 and the average recall_score of 100 times is about 0.40."
   ]
  },
  {
   "cell_type": "markdown",
   "metadata": {},
   "source": [
    "## Feature selection"
   ]
  },
  {
   "cell_type": "markdown",
   "metadata": {},
   "source": [
    "## Removing features with low variance"
   ]
  },
  {
   "cell_type": "code",
   "execution_count": 7,
   "metadata": {},
   "outputs": [],
   "source": [
    "accuracy_score_list = []\n",
    "recall_score_list = []\n",
    "for i in range(100):\n",
    "    data_random = np.random.permutation(data)\n",
    "    x = data_random[:, [i for i in range(data.shape[1] - 1)]]\n",
    "    y = data_random[:, -1]\n",
    "    sel = VarianceThreshold(threshold=(.8 * (1 - .8)))\n",
    "    x_new = sel.fit_transform(x)\n",
    "    x_train, x_test, y_train, y_test = train_test_split(x_new, y, test_size = 0.4, random_state = 0)\n",
    "    gnb_clf = GaussianNB()\n",
    "    gnb_clf.fit(x_train, y_train)\n",
    "    \n",
    "    y_pre = gnb_clf.predict(x_test)\n",
    "    accuracy_score_list.append(accuracy_score(y_test, y_pre))\n",
    "    recall_score_list.append(recall_score(y_test, y_pre))"
   ]
  },
  {
   "cell_type": "code",
   "execution_count": 8,
   "metadata": {},
   "outputs": [
    {
     "data": {
      "text/plain": [
       "0.8309849749582638"
      ]
     },
     "execution_count": 8,
     "metadata": {},
     "output_type": "execute_result"
    }
   ],
   "source": [
    "np.mean(accuracy_score_list)"
   ]
  },
  {
   "cell_type": "code",
   "execution_count": 9,
   "metadata": {},
   "outputs": [
    {
     "data": {
      "text/plain": [
       "0.34203619934410645"
      ]
     },
     "execution_count": 9,
     "metadata": {},
     "output_type": "execute_result"
    }
   ],
   "source": [
    "np.mean(recall_score_list)"
   ]
  },
  {
   "cell_type": "code",
   "execution_count": 10,
   "metadata": {},
   "outputs": [
    {
     "data": {
      "text/plain": [
       "((1497, 42), (1497, 35))"
      ]
     },
     "execution_count": 10,
     "metadata": {},
     "output_type": "execute_result"
    }
   ],
   "source": [
    "x.shape, x_new.shape"
   ]
  },
  {
   "cell_type": "markdown",
   "metadata": {},
   "source": [
    "By Removing features with low variance, the average recall_score of 100 times is about 0.34, the result is not good."
   ]
  },
  {
   "cell_type": "markdown",
   "metadata": {},
   "source": [
    "## Univariate feature selection"
   ]
  },
  {
   "cell_type": "code",
   "execution_count": 12,
   "metadata": {},
   "outputs": [],
   "source": [
    "def f(num_of_col, method):\n",
    "    accuracy_score_list = []\n",
    "    recall_score_list = []\n",
    "    for i in range(100):\n",
    "        data_random = np.random.permutation(data)\n",
    "        x = data_random[:, [i for i in range(data.shape[1] - 1)]]\n",
    "        y = data_random[:, -1]\n",
    "        x_new = SelectKBest(method, k = num_of_col).fit_transform(x, y)\n",
    "        x_train, x_test, y_train, y_test = train_test_split(x_new, y, test_size = 0.4, random_state = 0)\n",
    "        gnb_clf = GaussianNB()\n",
    "        gnb_clf.fit(x_train, y_train)\n",
    "\n",
    "        y_pre = gnb_clf.predict(x_test)\n",
    "        accuracy_score_list.append(accuracy_score(y_test, y_pre))\n",
    "        recall_score_list.append(recall_score(y_test, y_pre))\n",
    "    average_accuracy_score = np.mean(accuracy_score_list)\n",
    "    average_recall_score = np.mean(recall_score_list)\n",
    "    return [average_accuracy_score, average_recall_score, x, x_new, x.shape, x_new.shape]"
   ]
  },
  {
   "cell_type": "markdown",
   "metadata": {},
   "source": [
    "## f_classif"
   ]
  },
  {
   "cell_type": "code",
   "execution_count": 15,
   "metadata": {},
   "outputs": [
    {
     "data": {
      "text/plain": [
       "[0.8267946577629384,\n",
       " 0.40697191833738844,\n",
       " array([[  1.,   1.,   0., ...,   1.,  11.,   6.],\n",
       "        [  1.,   1.,   0., ...,  11., 181., 127.],\n",
       "        [  1.,   1.,   0., ...,   7.,  18.,   8.],\n",
       "        ...,\n",
       "        [  0.,   0.,   0., ...,   3.,   9.,  10.],\n",
       "        [  0.,   0.,   0., ...,   1.,   6.,   6.],\n",
       "        [  1.,   1.,   0., ...,   6.,  12.,   9.]]),\n",
       " array([[  0.,   0.,   3., ...,   0.,  11.,   6.],\n",
       "        [  0.,   0.,  28., ...,   2., 181., 127.],\n",
       "        [  0.,   0.,   2., ...,   0.,  18.,   8.],\n",
       "        ...,\n",
       "        [  0.,   0.,   0., ...,   0.,   9.,  10.],\n",
       "        [  0.,   0.,  10., ...,   0.,   6.,   6.],\n",
       "        [  0.,   0.,  13., ...,   0.,  12.,   9.]]),\n",
       " (1497, 42),\n",
       " (1497, 20)]"
      ]
     },
     "execution_count": 15,
     "metadata": {},
     "output_type": "execute_result"
    }
   ],
   "source": [
    "f(20, f_classif)"
   ]
  },
  {
   "cell_type": "code",
   "execution_count": 17,
   "metadata": {},
   "outputs": [
    {
     "data": {
      "image/png": "[encoded data removed]",
      "text/plain": [
       "<Figure size 432x288 with 1 Axes>"
      ]
     },
     "metadata": {},
     "output_type": "display_data"
    }
   ],
   "source": [
    "plt.plot([i for i in range(1, 43)], [f(i, f_classif)[1] for i in range(1, 43)])\n",
    "plt.xlabel('numbers of columns')\n",
    "plt.ylabel('recall_score')\n",
    "plt.title('recall_score - numbers of columns')\n",
    "list_num = [i for i in range(1, 43)]\n",
    "list_recall_score =  [f(i, f_classif)[1] for i in range(1, 43)]"
   ]
  },
  {
   "cell_type": "code",
   "execution_count": 18,
   "metadata": {},
   "outputs": [
    {
     "data": {
      "text/plain": [
       "(0.43520307688977006, 31)"
      ]
     },
     "execution_count": 18,
     "metadata": {},
     "output_type": "execute_result"
    }
   ],
   "source": [
    "np.max(list_recall_score), np.argmax(list_recall_score)"
   ]
  },
  {
   "cell_type": "code",
   "execution_count": 19,
   "metadata": {},
   "outputs": [
    {
     "data": {
      "text/plain": [
       "0.43520307688977006"
      ]
     },
     "execution_count": 19,
     "metadata": {},
     "output_type": "execute_result"
    }
   ],
   "source": [
    "list_recall_score[31]"
   ]
  },
  {
   "cell_type": "markdown",
   "metadata": {},
   "source": [
    "By Univariate feature selection and f_classif, we can get the best recall_score when the number of the columns equals to 32."
   ]
  },
  {
   "cell_type": "code",
   "execution_count": 21,
   "metadata": {},
   "outputs": [
    {
     "data": {
      "text/plain": [
       "True"
      ]
     },
     "execution_count": 21,
     "metadata": {},
     "output_type": "execute_result"
    }
   ],
   "source": [
    "a = [sum(data[:, i]) for i in range(43)]\n",
    "len(set(a)) == len(a)"
   ]
  },
  {
   "cell_type": "code",
   "execution_count": 23,
   "metadata": {},
   "outputs": [],
   "source": [
    "modified_x = f(32, f_classif)[3]"
   ]
  },
  {
   "cell_type": "code",
   "execution_count": 24,
   "metadata": {},
   "outputs": [
    {
     "data": {
      "text/plain": [
       "[0,\n",
       " 1,\n",
       " 2,\n",
       " 3,\n",
       " 4,\n",
       " 5,\n",
       " 6,\n",
       " 8,\n",
       " 9,\n",
       " 10,\n",
       " 11,\n",
       " 12,\n",
       " 13,\n",
       " 14,\n",
       " 15,\n",
       " 16,\n",
       " 17,\n",
       " 20,\n",
       " 21,\n",
       " 22,\n",
       " 23,\n",
       " 24,\n",
       " 25,\n",
       " 26,\n",
       " 28,\n",
       " 29,\n",
       " 33,\n",
       " 34,\n",
       " 36,\n",
       " 37,\n",
       " 40,\n",
       " 41]"
      ]
     },
     "execution_count": 24,
     "metadata": {},
     "output_type": "execute_result"
    }
   ],
   "source": [
    "index_list = []\n",
    "for i in range(43):\n",
    "    for j in range(32):\n",
    "        if abs(sum(data[:, i]) - sum(modified_x[:, j])) < 1e-2:\n",
    "            index_list.append(i)\n",
    "            continue\n",
    "index_list"
   ]
  },
  {
   "cell_type": "code",
   "execution_count": 25,
   "metadata": {},
   "outputs": [
    {
     "data": {
      "text/plain": [
       "32"
      ]
     },
     "execution_count": 25,
     "metadata": {},
     "output_type": "execute_result"
    }
   ],
   "source": [
    "len(index_list)"
   ]
  },
  {
   "cell_type": "markdown",
   "metadata": {},
   "source": [
    "[0,\n",
    " 1,\n",
    " 2,\n",
    " 3,\n",
    " 4,\n",
    " 5,\n",
    " 6,\n",
    " 8,\n",
    " 9,\n",
    " 10,\n",
    " 11,\n",
    " 12,\n",
    " 13,\n",
    " 14,\n",
    " 15,\n",
    " 16,\n",
    " 17,\n",
    " 20,\n",
    " 21,\n",
    " 22,\n",
    " 23,\n",
    " 24,\n",
    " 25,\n",
    " 26,\n",
    " 28,\n",
    " 29,\n",
    " 33,\n",
    " 34,\n",
    " 36,\n",
    " 37,\n",
    " 40,\n",
    " 41]"
   ]
  },
  {
   "cell_type": "code",
   "execution_count": 27,
   "metadata": {},
   "outputs": [
    {
     "data": {
      "text/plain": [
       "(0.8195826377295493, 0.4303704360659274)"
      ]
     },
     "execution_count": 27,
     "metadata": {},
     "output_type": "execute_result"
    }
   ],
   "source": [
    "f(32, f_classif)[0], f(32, f_classif)[1]"
   ]
  },
  {
   "cell_type": "markdown",
   "metadata": {},
   "source": [
    "We should choose the following 32 index and can get the best recall_score 0.43 and the accuracy_score 0.82."
   ]
  },
  {
   "cell_type": "markdown",
   "metadata": {},
   "source": [
    "## mutual_info_classif"
   ]
  },
  {
   "cell_type": "code",
   "execution_count": 29,
   "metadata": {},
   "outputs": [
    {
     "data": {
      "text/plain": [
       "Text(0.5,1,'recall_score - numbers of columns')"
      ]
     },
     "execution_count": 29,
     "metadata": {},
     "output_type": "execute_result"
    },
    {
     "data": {
      "image/png": "[encoded data removed]",
      "text/plain": [
       "<Figure size 432x288 with 1 Axes>"
      ]
     },
     "metadata": {},
     "output_type": "display_data"
    }
   ],
   "source": [
    "list_num = [i for i in range(1, 43, 10)]\n",
    "list_recall_score =  [f(i, mutual_info_classif)[1] for i in range(1, 43, 10)]\n",
    "plt.plot(list_num, list_recall_score)\n",
    "plt.xlabel('numbers of columns')\n",
    "plt.ylabel('recall_score')\n",
    "plt.title('recall_score - numbers of columns')"
   ]
  },
  {
   "cell_type": "markdown",
   "metadata": {},
   "source": [
    "By Univariate feature selection and mutual_info_classif, it seems much time comsuming and the recall_score is not good enough."
   ]
  },
  {
   "cell_type": "markdown",
   "metadata": {},
   "source": [
    "## Feature selection using SelectFromModel"
   ]
  },
  {
   "cell_type": "markdown",
   "metadata": {},
   "source": [
    "## L1-based feature selection"
   ]
  },
  {
   "cell_type": "code",
   "execution_count": 37,
   "metadata": {},
   "outputs": [],
   "source": [
    "accuracy_score_list = []\n",
    "recall_score_list = []\n",
    "for i in range(100):\n",
    "    data_random = np.random.permutation(data)\n",
    "    x = data_random[:, [i for i in range(data.shape[1] - 1)]]\n",
    "    y = data_random[:, -1]\n",
    "    lsvc = LinearSVC(C = 0.01, penalty = 'l1', dual = False).fit(x, y)\n",
    "    model = SelectFromModel(lsvc, prefit = True)\n",
    "    x_new = model.transform(x)\n",
    "    x_train, x_test, y_train, y_test = train_test_split(x_new, y, test_size = 0.4, random_state = 0)\n",
    "    gnb_clf = GaussianNB()\n",
    "    gnb_clf.fit(x_train, y_train)\n",
    "\n",
    "    y_pre = gnb_clf.predict(x_test)\n",
    "    accuracy_score_list.append(accuracy_score(y_test, y_pre))\n",
    "    recall_score_list.append(recall_score(y_test, y_pre))\n"
   ]
  },
  {
   "cell_type": "code",
   "execution_count": 38,
   "metadata": {},
   "outputs": [
    {
     "data": {
      "text/plain": [
       "(0.8302003338898166, 0.32620260115663574)"
      ]
     },
     "execution_count": 38,
     "metadata": {},
     "output_type": "execute_result"
    }
   ],
   "source": [
    "np.mean(accuracy_score_list), np.mean(recall_score_list)"
   ]
  },
  {
   "cell_type": "code",
   "execution_count": 39,
   "metadata": {},
   "outputs": [
    {
     "data": {
      "text/plain": [
       "((1497, 42), (1497, 22))"
      ]
     },
     "execution_count": 39,
     "metadata": {},
     "output_type": "execute_result"
    }
   ],
   "source": [
    "x.shape, x_new.shape"
   ]
  },
  {
   "cell_type": "markdown",
   "metadata": {},
   "source": [
    "By Feature selection using SelectFromModel and L1-based feature selection, the average recall_score of 100 times is about 0.326, the result is not good."
   ]
  },
  {
   "cell_type": "markdown",
   "metadata": {},
   "source": [
    "## Tree-based feature selection"
   ]
  },
  {
   "cell_type": "code",
   "execution_count": 51,
   "metadata": {},
   "outputs": [],
   "source": [
    "accuracy_score_list = []\n",
    "recall_score_list = []\n",
    "for i in range(100):\n",
    "    data_random = np.random.permutation(data)\n",
    "    x = data_random[:, [i for i in range(data.shape[1] - 1)]]\n",
    "    y = data_random[:, -1]\n",
    "    clf = ExtraTreesClassifier(n_estimators = 50)\n",
    "    clf = clf.fit(x, y)\n",
    "    model = SelectFromModel(clf, prefit = True)\n",
    "    x_new = model.transform(x)\n",
    "    x_train, x_test, y_train, y_test = train_test_split(x_new, y, test_size = 0.4, random_state = 0)\n",
    "    gnb_clf = GaussianNB()\n",
    "    gnb_clf.fit(x_train, y_train)\n",
    "    y_pre = gnb_clf.predict(x_test)\n",
    "    accuracy_score_list.append(accuracy_score(y_test, y_pre))\n",
    "    recall_score_list.append(recall_score(y_test, y_pre))"
   ]
  },
  {
   "cell_type": "code",
   "execution_count": 52,
   "metadata": {},
   "outputs": [
    {
     "data": {
      "text/plain": [
       "(0.8336894824707848, 0.37570245356711984)"
      ]
     },
     "execution_count": 52,
     "metadata": {},
     "output_type": "execute_result"
    }
   ],
   "source": [
    "np.mean(accuracy_score_list), np.mean(recall_score_list)"
   ]
  },
  {
   "cell_type": "code",
   "execution_count": 53,
   "metadata": {},
   "outputs": [
    {
     "data": {
      "text/plain": [
       "((1497, 42), (1497, 23))"
      ]
     },
     "execution_count": 53,
     "metadata": {},
     "output_type": "execute_result"
    }
   ],
   "source": [
    "x.shape, x_new.shape"
   ]
  },
  {
   "cell_type": "markdown",
   "metadata": {},
   "source": [
    "By Feature selection using SelectFromModel and Tree-based feature selection, the average recall_score of 100 times is about 0.376, the result is not good."
   ]
  },
  {
   "cell_type": "markdown",
   "metadata": {},
   "source": [
    "## Conclusion"
   ]
  },
  {
   "cell_type": "markdown",
   "metadata": {},
   "source": [
    "Up to now, the best recall_score we can get is about 0.43. When we get the best recall_score, and the accuracy_score is about 0.82."
   ]
  },
  {
   "cell_type": "markdown",
   "metadata": {},
   "source": [
    "When we get the best recall_score, we ues the naive_bayes, GaussianNB and we take the following index of the columns as our actual input."
   ]
  },
  {
   "cell_type": "markdown",
   "metadata": {},
   "source": [
    "[0, 1, 2, 3, 4, 5, 6, 8, 9, 10, 11, 12, 13, 14, 15, 16, 17, 20, 21, 22, 23, 24, 25, 26, 28, 29, 33, 34, 36, 37, 40, 41]"
   ]
  }
 ],
 "metadata": {
  "kernelspec": {
   "display_name": "Python 3",
   "language": "python",
   "name": "python3"
  },
  "language_info": {
   "codemirror_mode": {
    "name": "ipython",
    "version": 3
   },
   "file_extension": ".py",
   "mimetype": "text/x-python",
   "name": "python",
   "nbconvert_exporter": "python",
   "pygments_lexer": "ipython3",
   "version": "3.6.5"
  }
 },
 "nbformat": 4,
 "nbformat_minor": 2
}
