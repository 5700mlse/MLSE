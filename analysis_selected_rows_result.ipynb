{
 "cells": [
  {
   "cell_type": "code",
   "execution_count": 1,
   "metadata": {},
   "outputs": [],
   "source": [
    "import pandas as pd\n",
    "import os\n",
    "from sklearn.ensemble import RandomForestClassifier\n",
    "import numpy as np"
   ]
  },
  {
   "cell_type": "code",
   "execution_count": 13,
   "metadata": {},
   "outputs": [
    {
     "data": {
      "text/plain": [
       "array([ 5,  6,  7,  8,  9, 10, 11, 12, 13, 14, 15])"
      ]
     },
     "execution_count": 13,
     "metadata": {},
     "output_type": "execute_result"
    }
   ],
   "source": [
    "row_numbers = np.arange(5,16,1)\n",
    "print(row_numbers)"
   ]
  },
  {
   "cell_type": "code",
   "execution_count": 22,
   "metadata": {},
   "outputs": [
    {
     "name": "stdout",
     "output_type": "stream",
     "text": [
      "rows_selected/Rows_selected_5_result.csv\n",
      "rows_selected/Rows_selected_6_result.csv\n",
      "rows_selected/Rows_selected_7_result.csv\n",
      "rows_selected/Rows_selected_8_result.csv\n",
      "rows_selected/Rows_selected_9_result.csv\n",
      "rows_selected/Rows_selected_10_result.csv\n",
      "rows_selected/Rows_selected_11_result.csv\n",
      "rows_selected/Rows_selected_12_result.csv\n",
      "rows_selected/Rows_selected_13_result.csv\n",
      "rows_selected/Rows_selected_14_result.csv\n",
      "rows_selected/Rows_selected_15_result.csv\n"
     ]
    }
   ],
   "source": [
    "res = pd.DataFrame(columns=('column_selected','precision','recall','finding_rate','cross_val'))\n",
    "\n",
    "def load_one_version_method_matrix(matrix_path):\n",
    "    print(matrix_path)\n",
    "    return pd.read_csv(matrix_path,header=None, names = ['column_selected','precision','recall','finding_rate','cross_val'] )\n",
    "\n",
    "filePath = \"rows_selected/\"\n",
    "for row_number in row_numbers:\n",
    "    selected_row_number = \"Rows_selected_\"+str(row_number)+\"_result.csv\"\n",
    "    result = load_one_version_method_matrix(filePath+selected_row_number)\n",
    "    sorted_result = result.sort_values(by=\"finding_rate\" , ascending=False) \n",
    "    res = res.append(sorted_result[0:5], ignore_index=True)\n"
   ]
  },
  {
   "cell_type": "code",
   "execution_count": 1,
   "metadata": {},
   "outputs": [
    {
     "ename": "NameError",
     "evalue": "name 'np' is not defined",
     "output_type": "error",
     "traceback": [
      "\u001b[0;31m---------------------------------------------------------------------------\u001b[0m",
      "\u001b[0;31mNameError\u001b[0m                                 Traceback (most recent call last)",
      "\u001b[0;32m<ipython-input-1-93198ef00481>\u001b[0m in \u001b[0;36m<module>\u001b[0;34m\u001b[0m\n\u001b[1;32m      1\u001b[0m \u001b[0;32mfrom\u001b[0m \u001b[0mitertools\u001b[0m \u001b[0;32mimport\u001b[0m \u001b[0mcombinations\u001b[0m\u001b[0;34m\u001b[0m\u001b[0;34m\u001b[0m\u001b[0m\n\u001b[0;32m----> 2\u001b[0;31m \u001b[0mcolumnlist\u001b[0m \u001b[0;34m=\u001b[0m \u001b[0mnp\u001b[0m\u001b[0;34m.\u001b[0m\u001b[0marange\u001b[0m\u001b[0;34m(\u001b[0m\u001b[0;36m0\u001b[0m\u001b[0;34m,\u001b[0m\u001b[0mendindex\u001b[0m\u001b[0;34m-\u001b[0m\u001b[0mstartindex\u001b[0m\u001b[0;34m-\u001b[0m\u001b[0;36m1\u001b[0m\u001b[0;34m,\u001b[0m\u001b[0;36m1\u001b[0m\u001b[0;34m)\u001b[0m\u001b[0;34m\u001b[0m\u001b[0;34m\u001b[0m\u001b[0m\n\u001b[0m\u001b[1;32m      3\u001b[0m \u001b[0mprint\u001b[0m\u001b[0;34m(\u001b[0m\u001b[0mcolumnlist\u001b[0m\u001b[0;34m)\u001b[0m\u001b[0;34m\u001b[0m\u001b[0;34m\u001b[0m\u001b[0m\n\u001b[1;32m      4\u001b[0m \u001b[0;34m\u001b[0m\u001b[0m\n\u001b[1;32m      5\u001b[0m \u001b[0;31m# set the how many column to combine, eg: now is 5\u001b[0m\u001b[0;34m\u001b[0m\u001b[0;34m\u001b[0m\u001b[0;34m\u001b[0m\u001b[0m\n",
      "\u001b[0;31mNameError\u001b[0m: name 'np' is not defined"
     ]
    }
   ],
   "source": []
  },
  {
   "cell_type": "markdown",
   "metadata": {},
   "source": [
    "# same in the Classification"
   ]
  },
  {
   "cell_type": "code",
   "execution_count": 1,
   "metadata": {},
   "outputs": [],
   "source": [
    "\n",
    "def get_selected_rows(columncombation,X_data):\n",
    "    flag = False\n",
    "    for i in columncombation:\n",
    "        if(flag == False):\n",
    "            c = X_data[:,i].T\n",
    "            flag = True\n",
    "        else:\n",
    "            c = np.vstack((c,X_data[:,i].T))\n",
    "    X_train_selected = c.T \n",
    "    return X_train_selected\n",
    "def predicted_bugNum_vs_true_bugNum(Y_test_predict,Y_test_bugs):\n",
    "    n = 0\n",
    "    bugrowcount = 0\n",
    "    for i in range(0,len(Y_test_predict)):\n",
    "        if(Y_test_bugs[i]!=False):\n",
    "            bugrowcount += 1\n",
    "            if(Y_test_predict[i]==Y_test_bugs[i]):\n",
    "                n=n+1\n",
    "#    print(n/bugrowcount,n,bugrowcount)\n",
    "    return n/bugrowcount,n\n",
    "def load_one_version_method_matrix(matrix_path):\n",
    "    print(matrix_path)\n",
    "    return pd.read_csv(matrix_path)\n",
    "\n",
    "def classification_binary(column_selected):\n",
    "\n",
    "    filePath = \"AlltheMatrix/\"\n",
    "    single_version_file_path = filePath + 'modified_single_version-ck-oo.csv'\n",
    "    changed_file_path = filePath + 'modified_change_metrics.csv'\n",
    "    bug_matrix_path = filePath + 'modified_bug-metrics.csv' \n",
    "    # complexity_code_change_path = \n",
    "\n",
    "\n",
    "\n",
    "    filePathNowusing = changed_file_path\n",
    "\n",
    "\n",
    "\n",
    "    changed_matrix = load_one_version_method_matrix(filePathNowusing)\n",
    "    print(f'lens: {len(changed_matrix.columns.values)}')\n",
    "\n",
    "    startindex = 0\n",
    "    endindex = 0\n",
    "    for i, column in enumerate(changed_matrix.columns.values):\n",
    "        if(column == 'classname'):\n",
    "            startindex = i\n",
    "        elif (column == 'bugs'):\n",
    "            endindex = i\n",
    "    print(f'start:{startindex},end:{endindex}') \n",
    "    target = changed_matrix['bugs'].values\n",
    "    data = changed_matrix.values[:,startindex+1:endindex]\n",
    "    print(target.shape)\n",
    "    print(data.shape)\n",
    "\n",
    "    #shuffleIndex\n",
    "    import numpy as np\n",
    "    shuffle_index = np.random.permutation(997)\n",
    "    target, data = target[shuffle_index], data[shuffle_index]\n",
    "\n",
    "    #shuffleIndex\n",
    "    import numpy as np\n",
    "    shuffle_index = np.random.permutation(997)\n",
    "    target, data = target[shuffle_index], data[shuffle_index]\n",
    "\n",
    "    #split the train set and the test set\n",
    "    X_train = data[:700]\n",
    "    X_test = data[700:]\n",
    "    Y_train = target[:700]\n",
    "    Y_test = target[700:]\n",
    "    print(X_train,Y_train.shape)\n",
    "    #train a binary classifier\n",
    "    Y_train_bugs = (Y_train > 0)\n",
    "    Y_test_bugs = (Y_test > 0 )\n",
    "    from sklearn.ensemble import RandomForestClassifier\n",
    "    from sklearn.model_selection import cross_val_score\n",
    "\n",
    "    #hardCopy to test the selected rows\n",
    "    columncombation_j = column_selected#(0, 6, 8, 10, 13, 14)\n",
    "    X_train_selected = get_selected_rows(columncombation_j,X_train)\n",
    "    X_test_selected = get_selected_rows(columncombation_j,X_test)\n",
    "\n",
    "\n",
    "    forest_clf = RandomForestClassifier(n_estimators = 10)\n",
    "    forest_clf.fit(X_train_selected,Y_train_bugs)\n",
    "\n",
    "    cross_result = cross_val_score(forest_clf, X_train_selected, Y_train_bugs, cv = 10, scoring = 'accuracy')\n",
    "    Y_forest_predict = forest_clf.predict(X_train_selected)\n",
    "\n",
    "    from sklearn.metrics import precision_score, recall_score\n",
    "    forst_precision = precision_score(Y_train_bugs, Y_forest_predict)\n",
    "    forst_recall = recall_score(Y_train_bugs, Y_forest_predict)\n",
    "    print(f'Forest_accurancy is {forst_precision}')\n",
    "    print(f'Forest_recall is {forst_recall}')\n",
    "\n",
    "    print(columncombation_j)\n",
    "    #    print(X_train_selected)\n",
    "    Y_test_predict = forest_clf.predict(X_test_selected)\n",
    "\n",
    "    findingRate = predicted_bugNum_vs_true_bugNum(Y_test_predict,Y_test_bugs)\n",
    "    print(f'fingdingrate = {findingRate}')"
   ]
  },
  {
   "cell_type": "code",
   "execution_count": 5,
   "metadata": {},
   "outputs": [
    {
     "name": "stdout",
     "output_type": "stream",
     "text": [
      "AlltheMatrix/modified_change_metrics.csv\n",
      "lens: 23\n",
      "start:1,end:17\n",
      "(997,)\n",
      "(997, 15)\n",
      "[[39 6 0 ... -0.25640999999999997 367.0 61.6485]\n",
      " [36 13 0 ... 3.9722199999999996 333.14300000000003 72.3289]\n",
      " [51 7 0 ... 1.03922 367.0 123.074]\n",
      " ...\n",
      " [16 5 0 ... 1.0625 325.143 102.57600000000001]\n",
      " [19 3 0 ... 1.31579 367.0 118.041]\n",
      " [239 59 0 ... 4.59414 367.0 80.6008]] (700,)\n",
      "Forest_accurancy is 0.9844961240310077\n",
      "Forest_recall is 0.9202898550724637\n",
      "(0, 6, 8, 10, 13, 14)\n",
      "fingdingrate = (0.4411764705882353, 30)\n"
     ]
    }
   ],
   "source": [
    "import pandas as pd\n",
    "import os\n",
    "import numpy as np\n",
    "classification_binary((0, 6, 8, 10, 13, 14))"
   ]
  },
  {
   "cell_type": "code",
   "execution_count": null,
   "metadata": {},
   "outputs": [],
   "source": []
  }
 ],
 "metadata": {
  "kernelspec": {
   "display_name": "Python 3",
   "language": "python",
   "name": "python3"
  },
  "language_info": {
   "codemirror_mode": {
    "name": "ipython",
    "version": 3
   },
   "file_extension": ".py",
   "mimetype": "text/x-python",
   "name": "python",
   "nbconvert_exporter": "python",
   "pygments_lexer": "ipython3",
   "version": "3.7.1"
  }
 },
 "nbformat": 4,
 "nbformat_minor": 2
}
