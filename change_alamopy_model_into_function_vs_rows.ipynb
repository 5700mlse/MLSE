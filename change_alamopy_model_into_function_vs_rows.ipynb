{
 "cells": [
  {
   "cell_type": "code",
   "execution_count": 53,
   "metadata": {},
   "outputs": [
    {
     "data": {
      "text/plain": [
       "['  z1 = 0.41321212602447952161322E-002 * x1',\n",
       " '0.46806717586996456070825E-001 * x2',\n",
       " '0.79645463805085067732215E-001 * x4',\n",
       " '0.12307160368962345199650E-003 * x5',\n",
       " '0.38964516723714214463045E-003 * x9',\n",
       " '0.40535249039165190815259E-002 * x14',\n",
       " '0.68930533922349646741567E-002 * x2*x4',\n",
       " '0.68380218069032745655672E-003 * x4*x15',\n",
       " '1.3010049545565156581262']"
      ]
     },
     "execution_count": 53,
     "metadata": {},
     "output_type": "execute_result"
    }
   ],
   "source": [
    "import pandas as pd\n",
    "import os\n",
    "single_file_path = 'modified_single_version-ck-oo.csv'\n",
    "changed_file_path = 'modified_change_metrics.csv'\n",
    "\n",
    "def load_one_version_method_matrix(matrix_path):\n",
    "    print(matrix_path)\n",
    "    return pd.read_csv(matrix_path)\n",
    "pd.read_csv(\"predicted_bugs.csv\")\n",
    "\n",
    "# a is th example of returned res['model'] from alamopy\n",
    "a = '  z1 = 0.41321212602447952161322E-002 * x1 + 0.46806717586996456070825E-001 * x2 + 0.79645463805085067732215E-001 * x4 + 0.12307160368962345199650E-003 * x5 - 0.38964516723714214463045E-003 * x9 - 0.40535249039165190815259E-002 * x14 - 0.68930533922349646741567E-002 * x2*x4 + 0.68380218069032745655672E-003 * x4*x15 + 1.3010049545565156581262'\n",
    "b = a.split(' + ')\n",
    "split_list = []\n",
    "for ai in b:\n",
    "    if(ai!=ai.split(' - ')):\n",
    "        ai = ai.split(' - ')\n",
    "#         for one in ai:\n",
    "#             print(one)\n",
    "#             one = '-'+one\n",
    "#             print(one)\n",
    "    split_list += ai\n",
    "split_list"
   ]
  },
  {
   "cell_type": "code",
   "execution_count": 54,
   "metadata": {},
   "outputs": [
    {
     "data": {
      "text/plain": [
       "({'0.41321212602447952161322E-002': 'x1',\n",
       "  '0.46806717586996456070825E-001': 'x2',\n",
       "  '0.79645463805085067732215E-001': 'x4',\n",
       "  '0.12307160368962345199650E-003': 'x5',\n",
       "  '0.38964516723714214463045E-003': 'x9',\n",
       "  '0.40535249039165190815259E-002': 'x14',\n",
       "  '0.68930533922349646741567E-002': 'x2*x4',\n",
       "  '0.68380218069032745655672E-003': 'x4*x15'},\n",
       " '1.3010049545565156581262')"
      ]
     },
     "execution_count": 54,
     "metadata": {},
     "output_type": "execute_result"
    }
   ],
   "source": [
    "# put corfficient and variable in to a dict\n",
    "c_v = {}\n",
    "head = split_list[0]\n",
    "tail = split_list[-1]\n",
    "split_list[0] = head.split(' = ')[-1]\n",
    "for one in split_list[0:-1]:\n",
    "    coefficient = one.split(' * ')[0]\n",
    "    variable = one.split(' * ')[1]\n",
    "    \n",
    "    c_v[coefficient] = variable\n",
    "c_v,tail"
   ]
  },
  {
   "cell_type": "code",
   "execution_count": 71,
   "metadata": {},
   "outputs": [],
   "source": [
    "c_symobol = {}\n",
    "for key in c_v.keys():\n",
    "    #print(a.index(key))\n",
    "    symbol = a[a.index(key)-2]\n",
    "    #print(a[a.index(key)-2])\n",
    "    if(symbol != \"-\"):\n",
    "        c_symobol[key] = True\n",
    "    else:\n",
    "        c_symobol[key] = False\n",
    "        \n",
    "symbol = a[a.index(tail)-2]\n",
    "if (symbol != '-'):\n",
    "    c_symobol[tail] = True\n",
    "else:\n",
    "    c_symobol[tail] = False\n"
   ]
  },
  {
   "cell_type": "markdown",
   "metadata": {},
   "source": [
    "# todo \n",
    "# add the sign to the dict"
   ]
  },
  {
   "cell_type": "code",
   "execution_count": 72,
   "metadata": {},
   "outputs": [
    {
     "name": "stdout",
     "output_type": "stream",
     "text": [
      "<class 'pandas.core.frame.DataFrame'>\n",
      "RangeIndex: 162 entries, 0 to 161\n",
      "Data columns (total 21 columns):\n",
      "x1     162 non-null int64\n",
      "x2     162 non-null int64\n",
      "x3     162 non-null int64\n",
      "x4     162 non-null int64\n",
      "x5     162 non-null float64\n",
      "x6     162 non-null float64\n",
      "x7     162 non-null float64\n",
      "x8     162 non-null float64\n",
      "x9     162 non-null float64\n",
      "x10    162 non-null float64\n",
      "x11    162 non-null float64\n",
      "x12    162 non-null float64\n",
      "x13    162 non-null float64\n",
      "x14    162 non-null float64\n",
      "x15    162 non-null float64\n",
      "x16    162 non-null int64\n",
      "x17    162 non-null int64\n",
      "x18    162 non-null int64\n",
      "x19    162 non-null int64\n",
      "x20    162 non-null int64\n",
      "x21    162 non-null object\n",
      "dtypes: float64(11), int64(9), object(1)\n",
      "memory usage: 26.7+ KB\n"
     ]
    }
   ],
   "source": [
    "#load matrix and process it to adapt the res['model']\n",
    "\n",
    "matrix = pd.read_csv(\"predicted_bugs.csv\")\n",
    "matrix.drop(matrix.columns[[0,1,2]],axis=1,inplace=True)\n",
    "columnlen = len(matrix.columns.values)\n",
    "for i in range(0,columnlen):\n",
    "    matrix.rename(columns={ matrix.columns[i]: 'x'+str(i+1) }, inplace=True)\n",
    "matrix.info()"
   ]
  },
  {
   "cell_type": "code",
   "execution_count": 69,
   "metadata": {},
   "outputs": [
    {
     "data": {
      "text/plain": [
       "0.004132121260244795"
      ]
     },
     "execution_count": 69,
     "metadata": {},
     "output_type": "execute_result"
    }
   ],
   "source": [
    "get_the_coff('0.41321212602447952161322E-002')"
   ]
  },
  {
   "cell_type": "code",
   "execution_count": 76,
   "metadata": {},
   "outputs": [
    {
     "data": {
      "text/plain": [
       "2.223468200777072"
      ]
     },
     "execution_count": 76,
     "metadata": {},
     "output_type": "execute_result"
    }
   ],
   "source": [
    "#call alculcate_the_z_from_row to get the preidcted target of each row in the data set\n",
    "import math\n",
    "def get_the_coff(a):\n",
    "    x1 = a.split('E')[0]\n",
    "    x2 = a.split('E')[1]\n",
    "    x2 = math.pow(10, int(x2))\n",
    "    return x2*float(x1)\n",
    "\n",
    "def calculcate_the_z_from_row(row):\n",
    "    z = 0\n",
    "    for key in c_v.keys():\n",
    "        value = c_v[key]\n",
    "        if(value.find('*')!=-1):# eg:x1*x14\n",
    "            temp = 1.0\n",
    "            keycof = get_the_coff(key)\n",
    "            #print(keycof)\n",
    "            temp = temp * keycof\n",
    "            tempv = value.split('*')\n",
    "            #print(tempv)\n",
    "            for i in tempv:\n",
    "                temp *= matrix[i][row]\n",
    "            if(c_symobol[key]==True):\n",
    "                #print(z)\n",
    "                z += temp\n",
    "            if(c_symobol[key]==False):\n",
    "                #print(z)\n",
    "                z-= temp\n",
    "            \n",
    "            \n",
    "        else:\n",
    "            temp2 = 1.0\n",
    "            keycof = get_the_coff(key)\n",
    "            temp2 = temp2*keycof\n",
    "            temp2 *= matrix[value][row]\n",
    "            \n",
    "            if(c_symobol[key]==True):\n",
    "                z += temp2\n",
    "            if(c_symobol[key]==False):\n",
    "                z -= temp2\n",
    "    if(c_symobol[tail]==True):\n",
    "        z = z + float(tail)\n",
    "    else:\n",
    "        z = z - float(tail)\n",
    "    return z\n",
    "    \n",
    "calculcate_the_z_from_row(2)"
   ]
  },
  {
   "cell_type": "code",
   "execution_count": 75,
   "metadata": {},
   "outputs": [],
   "source": [
    "def alamoresult():\n",
    "    changed_buggy_matrix = pd.read_csv(\"predicted_bugs.csv\")\n",
    "    Y_target = changed_buggy_matrix['bugs'].values\n",
    "    X_data = changed_buggy_matrix.values[:,3:18]\n",
    "    x1 = []\n",
    "    x2 = []\n",
    "    x3 = []\n",
    "    x4 = []\n",
    "    x5 = []\n",
    "    x9 = []\n",
    "    x14 = []\n",
    "    x15 = []\n",
    "    z1 = []\n",
    "    for i, X_one in enumerate(X_data):\n",
    "        x1 += [X_one[0]]\n",
    "        x2+= [X_one[1]]\n",
    "        x4+= [X_one[3]]\n",
    "        x5+= [X_one[4]]\n",
    "        x9+= [X_one[8]]\n",
    "        x14+= [X_one[13]]\n",
    "        x15+= [X_one[14]]\n",
    "        z1 += [0.41321212602447952161322E-002 * x1[i-1] + 0.46806717586996456070825E-001 * x2[i-1] + 0.79645463805085067732215E-001 * x4[i-1] + 0.12307160368962345199650E-003 * x5[i-1] - 0.38964516723714214463045E-003 * x9[i-1] - 0.40535249039165190815259E-002 * x14[i-1] - 0.68930533922349646741567E-002 * x2[i-1]*x4[i-1] + 0.68380218069032745655672E-003 * x4[i-1]*x15[i-1] + 1.3010049545565156581262]\n",
    "    \n",
    "    return z1\n",
    "\n",
    "Y_predict = alamoresult()"
   ]
  },
  {
   "cell_type": "code",
   "execution_count": 77,
   "metadata": {},
   "outputs": [],
   "source": [
    "Y_trans_result = []\n",
    "for i in range(0,162):\n",
    "    Y_trans_result += [calculcate_the_z_from_row(i)]"
   ]
  },
  {
   "cell_type": "code",
   "execution_count": 85,
   "metadata": {},
   "outputs": [],
   "source": [
    "def plot_the_predict_vs_data(predict_result):\n",
    "    changed_buggy_matrix = pd.read_csv(\"predicted_bugs.csv\")\n",
    "    Y_target = changed_buggy_matrix['bugs'].values\n",
    "    X_data = changed_buggy_matrix.values[:,3:18]\n",
    "    x = np.arange(0, len(Y_predict),1)\n",
    "    plt.plot(x,predict_result,label = \"Predict_result\")\n",
    "    plt.plot(x,Y_target,label = \"target\")\n",
    "    plt.legend()\n",
    "    "
   ]
  },
  {
   "cell_type": "code",
   "execution_count": 87,
   "metadata": {},
   "outputs": [
    {
     "data": {
      "image/png": "[encoded data removed]",
      "text/plain": [
       "<Figure size 432x288 with 1 Axes>"
      ]
     },
     "metadata": {
      "needs_background": "light"
     },
     "output_type": "display_data"
    }
   ],
   "source": [
    "import numpy as np\n",
    "import matplotlib.pyplot as plt\n",
    "xline = np.linspace(0,162,162)\n",
    "plt.plot(xline,Y_trans_result,'b--')\n",
    "plot_the_predict_vs_data(Y_predict)"
   ]
  },
  {
   "cell_type": "code",
   "execution_count": 88,
   "metadata": {},
   "outputs": [],
   "source": [
    "import alamopy"
   ]
  },
  {
   "cell_type": "code",
   "execution_count": 99,
   "metadata": {},
   "outputs": [],
   "source": [
    "?alamopy.alamo"
   ]
  },
  {
   "cell_type": "code",
   "execution_count": null,
   "metadata": {},
   "outputs": [],
   "source": []
  }
 ],
 "metadata": {
  "kernelspec": {
   "display_name": "Python 3",
   "language": "python",
   "name": "python3"
  },
  "language_info": {
   "codemirror_mode": {
    "name": "ipython",
    "version": 3
   },
   "file_extension": ".py",
   "mimetype": "text/x-python",
   "name": "python",
   "nbconvert_exporter": "python",
   "pygments_lexer": "ipython3",
   "version": "3.7.1"
  }
 },
 "nbformat": 4,
 "nbformat_minor": 2
}
