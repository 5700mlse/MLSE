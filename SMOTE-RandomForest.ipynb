{
 "cells": [
  {
   "cell_type": "code",
   "execution_count": 1,
   "metadata": {},
   "outputs": [],
   "source": [
    "import numpy as np\n",
    "import pandas as pd\n",
    "from sklearn.metrics import accuracy_score  \n",
    "from sklearn.metrics import recall_score  \n",
    "from sklearn.metrics import precision_score\n",
    "from sklearn.metrics import f1_score\n",
    "from sklearn.model_selection import GridSearchCV\n",
    "from sklearn.ensemble import RandomForestClassifier\n",
    "from sklearn.model_selection import train_test_split\n",
    "from sklearn import svm\n",
    "from sklearn.neural_network import MLPClassifier\n",
    "from sklearn.ensemble import AdaBoostClassifier\n",
    "from sklearn.linear_model import LogisticRegression \n",
    "from sklearn import neighbors\n",
    "from sklearn import tree\n",
    "from sklearn.ensemble import GradientBoostingClassifier\n",
    "from sklearn.neighbors import KNeighborsClassifier\n",
    "from sklearn.naive_bayes import GaussianNB\n",
    "from sklearn.naive_bayes import BernoulliNB\n",
    "import matplotlib.pyplot as plt\n",
    "from imblearn.over_sampling import SMOTE\n",
    "from sklearn.feature_selection import SelectKBest\n",
    "from sklearn.feature_selection import f_classif"
   ]
  },
  {
   "cell_type": "code",
   "execution_count": 2,
   "metadata": {},
   "outputs": [],
   "source": [
    "def get_the_predicted_bugs(name, num1, num2):\n",
    "    All_Data = pd.read_csv(name, usecols = [i for i in range(num1, num2)]).values\n",
    "    return All_Data"
   ]
  },
  {
   "cell_type": "code",
   "execution_count": 3,
   "metadata": {},
   "outputs": [],
   "source": [
    "data = get_the_predicted_bugs('modified-eclipse-metrics-files-3.0.csv', 2, 202)"
   ]
  },
  {
   "cell_type": "markdown",
   "metadata": {},
   "source": [
    "## RandomForest¶"
   ]
  },
  {
   "cell_type": "markdown",
   "metadata": {},
   "source": [
    "## SMOTE"
   ]
  },
  {
   "cell_type": "code",
   "execution_count": 4,
   "metadata": {},
   "outputs": [],
   "source": [
    "def change_to_binary(x):\n",
    "    for i in range(len(x)):\n",
    "        if x[i] == 0:\n",
    "            continue\n",
    "        elif x[i] > 0:\n",
    "            x[i] = 1\n",
    "        else:\n",
    "            print('Wrong.')\n",
    "            return\n",
    "    return x"
   ]
  },
  {
   "cell_type": "code",
   "execution_count": 5,
   "metadata": {
    "scrolled": true
   },
   "outputs": [],
   "source": [
    "accuracy_score_list = []\n",
    "recall_score_list = []\n",
    "precision_score_list = []\n",
    "f1_score_list = []\n",
    "for i in range(10):\n",
    "    data_random = np.random.permutation(data)\n",
    "    x = data_random[:, 3:]\n",
    "    y = change_to_binary(data_random[:, 1])\n",
    "    x_train, x_test, y_train, y_test = train_test_split(x, y, test_size = 0.2, random_state = 0)\n",
    "    sm = SMOTE()\n",
    "    x_train_new, y_train_new = sm.fit_resample(x_train, y_train)\n",
    "    rf_clf = RandomForestClassifier(n_estimators = 200, criterion = 'entropy')\n",
    "    rf_clf.fit(x_train_new, y_train_new)\n",
    "    y_pre = rf_clf.predict(x_test)\n",
    "    accuracy_score_list.append(accuracy_score(y_test, y_pre))\n",
    "    recall_score_list.append(recall_score(y_test, y_pre))\n",
    "    precision_score_list.append(precision_score(y_test, y_pre))\n",
    "    f1_score_list.append(f1_score(y_test, y_pre))"
   ]
  },
  {
   "cell_type": "code",
   "execution_count": 6,
   "metadata": {},
   "outputs": [
    {
     "data": {
      "text/plain": [
       "([0.853704577630958,\n",
       "  0.8551203397829165,\n",
       "  0.8603114676734309,\n",
       "  0.8579518640868334,\n",
       "  0.856536101934875,\n",
       "  0.8640868334119868,\n",
       "  0.8603114676734309,\n",
       "  0.8584237848041529,\n",
       "  0.8598395469561114,\n",
       "  0.8522888154789995],\n",
       " 0.8578574799433696)"
      ]
     },
     "execution_count": 6,
     "metadata": {},
     "output_type": "execute_result"
    }
   ],
   "source": [
    "accuracy_score_list, np.mean(accuracy_score_list)"
   ]
  },
  {
   "cell_type": "code",
   "execution_count": 7,
   "metadata": {},
   "outputs": [
    {
     "data": {
      "text/plain": [
       "([0.39384615384615385,\n",
       "  0.415625,\n",
       "  0.4479495268138801,\n",
       "  0.4277286135693215,\n",
       "  0.3867924528301887,\n",
       "  0.40894568690095845,\n",
       "  0.4447852760736196,\n",
       "  0.43902439024390244,\n",
       "  0.42295081967213116,\n",
       "  0.41214057507987223],\n",
       " 0.41997884950300285)"
      ]
     },
     "execution_count": 7,
     "metadata": {},
     "output_type": "execute_result"
    }
   ],
   "source": [
    "recall_score_list, np.mean(recall_score_list)"
   ]
  },
  {
   "cell_type": "code",
   "execution_count": 8,
   "metadata": {},
   "outputs": [
    {
     "data": {
      "text/plain": [
       "([0.5311203319502075,\n",
       "  0.525691699604743,\n",
       "  0.5399239543726235,\n",
       "  0.5753968253968254,\n",
       "  0.5301724137931034,\n",
       "  0.5541125541125541,\n",
       "  0.5576923076923077,\n",
       "  0.5538461538461539,\n",
       "  0.516,\n",
       "  0.5],\n",
       " 0.5383956240768518)"
      ]
     },
     "execution_count": 8,
     "metadata": {},
     "output_type": "execute_result"
    }
   ],
   "source": [
    "precision_score_list, np.mean(precision_score_list)"
   ]
  },
  {
   "cell_type": "code",
   "execution_count": 9,
   "metadata": {},
   "outputs": [
    {
     "data": {
      "text/plain": [
       "([0.4522968197879859,\n",
       "  0.4642233856893543,\n",
       "  0.4896551724137931,\n",
       "  0.4906937394247039,\n",
       "  0.44727272727272727,\n",
       "  0.47058823529411764,\n",
       "  0.49488054607508525,\n",
       "  0.489795918367347,\n",
       "  0.4648648648648649,\n",
       "  0.45183887915936954],\n",
       " 0.47161102883493483)"
      ]
     },
     "execution_count": 9,
     "metadata": {},
     "output_type": "execute_result"
    }
   ],
   "source": [
    "f1_score_list, np.mean(f1_score_list)"
   ]
  }
 ],
 "metadata": {
  "kernelspec": {
   "display_name": "Python 3",
   "language": "python",
   "name": "python3"
  },
  "language_info": {
   "codemirror_mode": {
    "name": "ipython",
    "version": 3
   },
   "file_extension": ".py",
   "mimetype": "text/x-python",
   "name": "python",
   "nbconvert_exporter": "python",
   "pygments_lexer": "ipython3",
   "version": "3.7.1"
  }
 },
 "nbformat": 4,
 "nbformat_minor": 2
}
