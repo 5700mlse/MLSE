{
 "cells": [
  {
   "cell_type": "code",
   "execution_count": 1,
   "metadata": {},
   "outputs": [],
   "source": [
    "import numpy as np\n",
    "import pandas as pd\n",
    "from sklearn.metrics import accuracy_score  \n",
    "from sklearn.metrics import recall_score  \n",
    "from sklearn.metrics import precision_score\n",
    "from sklearn.metrics import f1_score\n",
    "from sklearn.model_selection import GridSearchCV\n",
    "from sklearn.ensemble import RandomForestClassifier\n",
    "from sklearn.model_selection import train_test_split\n",
    "from sklearn import svm\n",
    "from sklearn.neural_network import MLPClassifier\n",
    "from sklearn.ensemble import AdaBoostClassifier\n",
    "from sklearn.linear_model import LogisticRegression \n",
    "from sklearn import neighbors\n",
    "from sklearn import tree\n",
    "from sklearn.ensemble import GradientBoostingClassifier\n",
    "from sklearn.neighbors import KNeighborsClassifier\n",
    "from sklearn.naive_bayes import GaussianNB\n",
    "from sklearn.naive_bayes import BernoulliNB\n",
    "import matplotlib.pyplot as plt\n",
    "from imblearn.over_sampling import SMOTE\n",
    "from sklearn.feature_selection import SelectKBest\n",
    "from sklearn.feature_selection import f_classif"
   ]
  },
  {
   "cell_type": "code",
   "execution_count": 2,
   "metadata": {},
   "outputs": [],
   "source": [
    "def get_the_predicted_bugs(name, num1, num2):\n",
    "    All_Data = pd.read_csv(name, usecols = [i for i in range(num1, num2)]).values\n",
    "    return All_Data"
   ]
  },
  {
   "cell_type": "code",
   "execution_count": 3,
   "metadata": {},
   "outputs": [],
   "source": [
    "data = get_the_predicted_bugs('modified_all_data.csv', 2, 45)"
   ]
  },
  {
   "cell_type": "markdown",
   "metadata": {},
   "source": [
    "## RandomForest¶"
   ]
  },
  {
   "cell_type": "markdown",
   "metadata": {},
   "source": [
    "## SMOTE"
   ]
  },
  {
   "cell_type": "code",
   "execution_count": 4,
   "metadata": {},
   "outputs": [],
   "source": [
    "def change_to_binary(x):\n",
    "    for i in range(len(x)):\n",
    "        if x[i] == 0:\n",
    "            continue\n",
    "        elif x[i] > 0:\n",
    "            x[i] = 1\n",
    "        else:\n",
    "            print('Wrong.')\n",
    "            return\n",
    "    return x"
   ]
  },
  {
   "cell_type": "code",
   "execution_count": 5,
   "metadata": {
    "scrolled": true
   },
   "outputs": [],
   "source": [
    "accuracy_score_list = []\n",
    "recall_score_list = []\n",
    "precision_score_list = []\n",
    "f1_score_list = []\n",
    "for i in range(10):\n",
    "    data_random = np.random.permutation(data)\n",
    "    x = data_random[:, [i for i in range(data.shape[1] - 1)]]\n",
    "    y = data_random[:, -1]\n",
    "    x_train, x_test, y_train, y_test = train_test_split(x, y, test_size = 0.2, random_state = 0)\n",
    "    sm = SMOTE()\n",
    "    x_train_new, y_train_new = sm.fit_resample(x_train, y_train)\n",
    "    rf_clf = RandomForestClassifier(n_estimators = 200, criterion = 'entropy')\n",
    "    rf_clf.fit(x_train_new, y_train_new)\n",
    "    y_pre = rf_clf.predict(x_test)\n",
    "    accuracy_score_list.append(accuracy_score(y_test, y_pre))\n",
    "    recall_score_list.append(recall_score(y_test, y_pre))\n",
    "    precision_score_list.append(precision_score(y_test, y_pre))\n",
    "    f1_score_list.append(f1_score(y_test, y_pre))"
   ]
  },
  {
   "cell_type": "code",
   "execution_count": 6,
   "metadata": {},
   "outputs": [
    {
     "data": {
      "text/plain": [
       "([0.8133333333333334,\n",
       "  0.8133333333333334,\n",
       "  0.85,\n",
       "  0.8533333333333334,\n",
       "  0.8466666666666667,\n",
       "  0.8566666666666667,\n",
       "  0.8433333333333334,\n",
       "  0.87,\n",
       "  0.8633333333333333,\n",
       "  0.86],\n",
       " 0.8470000000000001)"
      ]
     },
     "execution_count": 6,
     "metadata": {},
     "output_type": "execute_result"
    }
   ],
   "source": [
    "accuracy_score_list, np.mean(accuracy_score_list)"
   ]
  },
  {
   "cell_type": "code",
   "execution_count": 7,
   "metadata": {},
   "outputs": [
    {
     "data": {
      "text/plain": [
       "([0.37209302325581395,\n",
       "  0.28,\n",
       "  0.24489795918367346,\n",
       "  0.3,\n",
       "  0.39473684210526316,\n",
       "  0.3111111111111111,\n",
       "  0.3157894736842105,\n",
       "  0.34285714285714286,\n",
       "  0.358974358974359,\n",
       "  0.37209302325581395],\n",
       " 0.32925529344273885)"
      ]
     },
     "execution_count": 7,
     "metadata": {},
     "output_type": "execute_result"
    }
   ],
   "source": [
    "recall_score_list, np.mean(recall_score_list)"
   ]
  },
  {
   "cell_type": "code",
   "execution_count": 8,
   "metadata": {},
   "outputs": [
    {
     "data": {
      "text/plain": [
       "([0.35555555555555557,\n",
       "  0.4117647058823529,\n",
       "  0.6,\n",
       "  0.42857142857142855,\n",
       "  0.39473684210526316,\n",
       "  0.5384615384615384,\n",
       "  0.36363636363636365,\n",
       "  0.42857142857142855,\n",
       "  0.4666666666666667,\n",
       "  0.5161290322580645],\n",
       " 0.4504093561708662)"
      ]
     },
     "execution_count": 8,
     "metadata": {},
     "output_type": "execute_result"
    }
   ],
   "source": [
    "precision_score_list, np.mean(precision_score_list)"
   ]
  },
  {
   "cell_type": "code",
   "execution_count": 9,
   "metadata": {},
   "outputs": [
    {
     "data": {
      "text/plain": [
       "([0.36363636363636365,\n",
       "  0.3333333333333333,\n",
       "  0.34782608695652173,\n",
       "  0.3529411764705882,\n",
       "  0.39473684210526316,\n",
       "  0.39436619718309857,\n",
       "  0.3380281690140845,\n",
       "  0.38095238095238093,\n",
       "  0.40579710144927544,\n",
       "  0.4324324324324324],\n",
       " 0.37440500835333423)"
      ]
     },
     "execution_count": 9,
     "metadata": {},
     "output_type": "execute_result"
    }
   ],
   "source": [
    "f1_score_list, np.mean(f1_score_list)"
   ]
  }
 ],
 "metadata": {
  "kernelspec": {
   "display_name": "Python 3",
   "language": "python",
   "name": "python3"
  },
  "language_info": {
   "codemirror_mode": {
    "name": "ipython",
    "version": 3
   },
   "file_extension": ".py",
   "mimetype": "text/x-python",
   "name": "python",
   "nbconvert_exporter": "python",
   "pygments_lexer": "ipython3",
   "version": "3.6.5"
  }
 },
 "nbformat": 4,
 "nbformat_minor": 2
}
