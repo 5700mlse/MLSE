{
 "cells": [
  {
   "cell_type": "code",
   "execution_count": 1,
   "metadata": {},
   "outputs": [],
   "source": [
    "import numpy as np\n",
    "import pandas as pd\n",
    "from sklearn.ensemble import RandomForestClassifier\n",
    "from sklearn.model_selection import train_test_split\n",
    "from sklearn import svm\n",
    "from sklearn.neural_network import MLPClassifier\n",
    "import matplotlib.pyplot as plt"
   ]
  },
  {
   "cell_type": "code",
   "execution_count": 2,
   "metadata": {},
   "outputs": [],
   "source": [
    "def change_to_binary(y):\n",
    "    for i,j in enumerate(y):\n",
    "        if j != 0: \n",
    "            y[i] = 1\n",
    "    return y"
   ]
  },
  {
   "cell_type": "code",
   "execution_count": 3,
   "metadata": {},
   "outputs": [
    {
     "data": {
      "text/plain": [
       "array([[0],\n",
       "       [0],\n",
       "       [0],\n",
       "       ...,\n",
       "       [0],\n",
       "       [0],\n",
       "       [0]], dtype=int64)"
      ]
     },
     "execution_count": 3,
     "metadata": {},
     "output_type": "execute_result"
    }
   ],
   "source": [
    "first_two_columns = pd.read_csv('all_data.csv', usecols = [1])\n",
    "\n",
    "numberOfBugsFoundUntil = pd.read_csv('all_data.csv', usecols = [2])\n",
    "change_to_binary(numberOfBugsFoundUntil.values)\n",
    "\n",
    "numberOfNonTrivialBugsFoundUntil = pd.read_csv('all_data.csv', usecols = [3])\n",
    "change_to_binary(numberOfNonTrivialBugsFoundUntil.values)\n",
    "\n",
    "numberOfMajorBugsFoundUntil = pd.read_csv('all_data.csv', usecols = [4])\n",
    "change_to_binary(numberOfMajorBugsFoundUntil.values)\n",
    "\n",
    "numberOfCriticalBugsFoundUntil = pd.read_csv('all_data.csv', usecols = [5])\n",
    "change_to_binary(numberOfCriticalBugsFoundUntil.values)\n",
    "\n",
    "numberOfHighPriorityBugsFoundUntil = pd.read_csv('all_data.csv', usecols = [6])\n",
    "change_to_binary(numberOfHighPriorityBugsFoundUntil.values)\n",
    "\n",
    "middle_columns = pd.read_csv('all_data.csv', usecols = [i for i in range(7, 44)])\n",
    "\n",
    "bugs = pd.read_csv('all_data.csv', usecols = [44])\n",
    "change_to_binary(bugs.values)"
   ]
  },
  {
   "cell_type": "code",
   "execution_count": 4,
   "metadata": {},
   "outputs": [],
   "source": [
    "modified_all_data = pd.concat([first_two_columns, numberOfBugsFoundUntil, numberOfNonTrivialBugsFoundUntil, numberOfMajorBugsFoundUntil, numberOfCriticalBugsFoundUntil, numberOfHighPriorityBugsFoundUntil, middle_columns, bugs], axis = 1)\n",
    "pd.DataFrame(modified_all_data).to_csv('modified_all_data.csv')"
   ]
  }
 ],
 "metadata": {
  "kernelspec": {
   "display_name": "Python 3",
   "language": "python",
   "name": "python3"
  },
  "language_info": {
   "codemirror_mode": {
    "name": "ipython",
    "version": 3
   },
   "file_extension": ".py",
   "mimetype": "text/x-python",
   "name": "python",
   "nbconvert_exporter": "python",
   "pygments_lexer": "ipython3",
   "version": "3.6.5"
  }
 },
 "nbformat": 4,
 "nbformat_minor": 2
}
