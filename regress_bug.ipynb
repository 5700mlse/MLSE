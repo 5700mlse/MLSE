{
 "cells": [
  {
   "cell_type": "code",
   "execution_count": 2,
   "metadata": {},
   "outputs": [],
   "source": [
    "import pandas as pd\n",
    "changed_buggy_matrix = pd.read_csv(\"predicted_bugs.csv\")\n",
    "Y_target = changed_buggy_matrix['bugs'].values\n",
    "X_data = changed_buggy_matrix.values[:,3:18]\n",
    "import numpy as np\n",
    "import matplotlib.pyplot as plt\n",
    "def plot_the_predict_vs_data(predict_result):\n",
    "    x = np.arange(0, len(Y_predict),1)\n",
    "    plt.plot(x,predict_result,label = \"Predict_result\")\n",
    "    plt.plot(x,Y_target,label = \"target\")\n",
    "    plt.legend()\n",
    "    \n"
   ]
  },
  {
   "cell_type": "code",
   "execution_count": 24,
   "metadata": {},
   "outputs": [
    {
     "data": {
      "text/plain": [
       "10"
      ]
     },
     "execution_count": 24,
     "metadata": {},
     "output_type": "execute_result"
    }
   ],
   "source": [
    "X_data[0][1]"
   ]
  },
  {
   "cell_type": "code",
   "execution_count": 17,
   "metadata": {
    "scrolled": true
   },
   "outputs": [
    {
     "data": {
      "text/plain": [
       "array([1, 0, 0, 1, 0.0, 0.0, 0.0, 0.0, 0.0, 0.0, -1745.0, 0.0, -23.6429,\n",
       "       9.14286, 0.0], dtype=object)"
      ]
     },
     "execution_count": 17,
     "metadata": {},
     "output_type": "execute_result"
    }
   ],
   "source": [
    "lb = changed_buggy_matrix.min()\n",
    "lb.values[3:18]"
   ]
  },
  {
   "cell_type": "code",
   "execution_count": null,
   "metadata": {},
   "outputs": [],
   "source": [
    "from sklearn.linear_model import Ridge\n",
    "ridge_reg = Ridge(alpha = 1, solver = \"cholesky\")\n",
    "ridge_model = ridge_reg.fit(X_data,Y_target)\n",
    "Y_predict = ridge_model.predict(X_data)\n",
    "plot_the_predict_vs_data(Y_predict)\n"
   ]
  },
  {
   "cell_type": "code",
   "execution_count": null,
   "metadata": {},
   "outputs": [],
   "source": [
    "from sklearn.linear_model import SGDRegressor\n",
    "sgd_reg = SGDRegressor()\n",
    "sgd_model = sgd_reg.fit(X_data,Y_target.ravel())\n",
    "Y_predict = sgd_model.predict(X_data)\n",
    "plot_the_predict_vs_data(Y_predict)"
   ]
  },
  {
   "cell_type": "code",
   "execution_count": null,
   "metadata": {},
   "outputs": [],
   "source": [
    "from sklearn.linear_model import Lasso\n",
    "lasso_reg = Lasso(alpha = 0.1,tol = 0.1)\n",
    "lasso_model =lasso_reg.fit(X_data,Y_target)\n",
    "Y_predict = lasso_model.predict(X_data)\n",
    "plot_the_predict_vs_data(Y_predict)"
   ]
  },
  {
   "cell_type": "code",
   "execution_count": null,
   "metadata": {},
   "outputs": [],
   "source": [
    "from sklearn.linear_model import ElasticNet\n",
    "elastic_net = ElasticNet(alpha = 0.1,l1_ratio=0.5,tol = 0.01)\n",
    "elanet_model =elastic_net.fit(X_data,Y_target)\n",
    "Y_predict = elanet_model.predict(X_data)\n",
    "plot_the_predict_vs_data(Y_predict)"
   ]
  },
  {
   "cell_type": "code",
   "execution_count": null,
   "metadata": {},
   "outputs": [],
   "source": [
    "from sklearn.svm import SVR\n",
    "svm_poly_reg = SVR(kernel = \"poly\", degree = 2, C = 1, epsilon=0.1,gamma = \"scale\")\n",
    "svm_model = svm_poly_reg.fit(X_data,Y_target)\n",
    "Y_predict = svm_model.predict(X_data)\n",
    "plot_the_predict_vs_data(Y_predict)"
   ]
  },
  {
   "cell_type": "code",
   "execution_count": null,
   "metadata": {},
   "outputs": [],
   "source": [
    "from sklearn.svm import SVR\n",
    "svm_poly_reg = SVR(kernel = \"poly\", degree = 2, C = 1, epsilon=0.1)\n",
    "svm_model = svm_poly_reg.fit(X_data,Y_target)\n",
    "Y_predict = svm_model.predict(X_data)\n",
    "plot_the_predict_vs_data(Y_predict)"
   ]
  },
  {
   "cell_type": "code",
   "execution_count": null,
   "metadata": {},
   "outputs": [],
   "source": [
    "import math\n",
    "import numpy as np"
   ]
  },
  {
   "cell_type": "code",
   "execution_count": null,
   "metadata": {},
   "outputs": [],
   "source": [
    "ndata=10\n",
    "x = np.random.uniform([-2,-1],[2,1],(ndata,2))\n",
    "z = [0]*ndata\n",
    "z"
   ]
  },
  {
   "cell_type": "code",
   "execution_count": 13,
   "metadata": {},
   "outputs": [],
   "source": [
    "import alamopy"
   ]
  },
  {
   "cell_type": "code",
   "execution_count": 12,
   "metadata": {},
   "outputs": [],
   "source": [
    "import alamopy\n",
    "import math\n",
    "def ackley(*x):\n",
    "    import numpy as np\n",
    "    x1,x2=x\n",
    "    a = 20\n",
    "    b = 0.2\n",
    "    c = 2 * 3.14159\n",
    "    z = - a  * np.exp(-b*np.sqrt(0.5*(x1**2 + x2**2)))-np.exp(0.5*(np.cos(c*x1)+np.cos(c*x2)))+a+np.exp(1)\n",
    "    return z"
   ]
  },
  {
   "cell_type": "code",
   "execution_count": 19,
   "metadata": {},
   "outputs": [],
   "source": [
    "?alamopy.alamo"
   ]
  },
  {
   "cell_type": "code",
   "execution_count": 11,
   "metadata": {},
   "outputs": [],
   "source": [
    "# Specify number of poitns to be used in the training set\n",
    "# Validation data can be provided optionally\n",
    "ndata=10\n",
    "x = np.random.uniform([-2,-1],[2,1],(ndata,2))\n",
    "z = [0]*ndata\n",
    "# specify simulator as examples.sixcamel\n",
    "\n",
    "for i in range(ndata):\n",
    "    z[i]=ackley(x[i][0],x[i][1])\n",
    "\n",
    "# Use alamopy's python function wrapper to avoid using ALAMO's I/O format\n",
    "almsim = alamopy.wrapwriter(ackley)\n"
   ]
  },
  {
   "cell_type": "code",
   "execution_count": null,
   "metadata": {},
   "outputs": [],
   "source": [
    "\n",
    "res = alamopy.alamo(x,z,almname='cam6',monomialpower=(1,2,3,4,5,6),multi2power=(1,2), expandoutput=True,maxiter=20,cvfun=True, showalm=True)\n",
    "print('Model: {}'.format(res['model']))"
   ]
  },
  {
   "cell_type": "code",
   "execution_count": null,
   "metadata": {},
   "outputs": [],
   "source": [
    "res = alamopy.alamo(x,z,almname='cam6',monomialpower=(1,2,3,4,5,6),multi2power=(1,2),simulator=almsim, expandoutput=True,maxiter=20,cvfun=True, savealm=True, showalm=True)"
   ]
  },
  {
   "cell_type": "code",
   "execution_count": 5,
   "metadata": {},
   "outputs": [],
   "source": [
    "def alamoresult():\n",
    "    changed_buggy_matrix = pd.read_csv(\"predicted_bugs.csv\")\n",
    "    Y_target = changed_buggy_matrix['bugs'].values\n",
    "    X_data = changed_buggy_matrix.values[:,3:18]\n",
    "    x1 = []\n",
    "    x2 = []\n",
    "    x3 = []\n",
    "    x4 = []\n",
    "    x5 = []\n",
    "    x9 = []\n",
    "    x14 = []\n",
    "    x15 = []\n",
    "    z1 = []\n",
    "    for i, X_one in enumerate(X_data):\n",
    "        x1 += [X_one[0]]\n",
    "        x2+= [X_one[1]]\n",
    "        x4+= [X_one[3]]\n",
    "        x5+= [X_one[4]]\n",
    "        x9+= [X_one[8]]\n",
    "        x14+= [X_one[13]]\n",
    "        x15+= [X_one[14]]\n",
    "        z1 += [0.41321212602447952161322E-002 * x1[i-1] + 0.46806717586996456070825E-001 * x2[i-1] + 0.79645463805085067732215E-001 * x4[i-1] + 0.12307160368962345199650E-003 * x5[i-1] - 0.38964516723714214463045E-003 * x9[i-1] - 0.40535249039165190815259E-002 * x14[i-1] - 0.68930533922349646741567E-002 * x2[i-1]*x4[i-1] + 0.68380218069032745655672E-003 * x4[i-1]*x15[i-1] + 1.3010049545565156581262]\n",
    "    \n",
    "    return z1\n",
    "\n",
    "Y_predict = alamoresult()"
   ]
  },
  {
   "cell_type": "code",
   "execution_count": 6,
   "metadata": {},
   "outputs": [
    {
     "data": {
      "image/png": "[encoded data removed]",
      "text/plain": [
       "<Figure size 432x288 with 1 Axes>"
      ]
     },
     "metadata": {
      "needs_background": "light"
     },
     "output_type": "display_data"
    }
   ],
   "source": [
    "plot_the_predict_vs_data(Y_predict)"
   ]
  },
  {
   "cell_type": "code",
   "execution_count": 1,
   "metadata": {},
   "outputs": [],
   "source": [
    "str = '  z1 = 0.41321212602447952161322E-002 * x1 + 0.46806717586996456070825E-001 * x2 + 0.79645463805085067732215E-001 * x4 + 0.12307160368962345199650E-003 * x5 - 0.38964516723714214463045E-003 * x9 - 0.40535249039165190815259E-002 * x14 - 0.68930533922349646741567E-002 * x2*x4 + 0.68380218069032745655672E-003 * x4*x15 + 1.3010049545565156581262'"
   ]
  },
  {
   "cell_type": "code",
   "execution_count": 3,
   "metadata": {},
   "outputs": [
    {
     "name": "stdout",
     "output_type": "stream",
     "text": [
      "min and max values of inputs are not provided, they will be calculated from the training data\n",
      "Calling ALAMO now:\n"
     ]
    },
    {
     "ename": "AlamoError",
     "evalue": "Cannot read from trace file \"trace.trc\": [Errno 2] No such file or directory: 'trace.trc'",
     "output_type": "error",
     "traceback": [
      "\u001b[0;31m---------------------------------------------------------------------------\u001b[0m",
      "\u001b[0;31mFileNotFoundError\u001b[0m                         Traceback (most recent call last)",
      "\u001b[0;32m/usr/local/lib/python3.7/dist-packages/alamopy-0.0.0-py3.7.egg/alamopy/doalamo.py\u001b[0m in \u001b[0;36mreadTraceFile\u001b[0;34m(vargs, data, debug)\u001b[0m\n\u001b[1;32m    836\u001b[0m     \u001b[0;32mtry\u001b[0m\u001b[0;34m:\u001b[0m\u001b[0;34m\u001b[0m\u001b[0;34m\u001b[0m\u001b[0m\n\u001b[0;32m--> 837\u001b[0;31m         \u001b[0mlf\u001b[0m \u001b[0;34m=\u001b[0m \u001b[0mopen\u001b[0m\u001b[0;34m(\u001b[0m\u001b[0mtrace_file\u001b[0m\u001b[0;34m)\u001b[0m\u001b[0;34m.\u001b[0m\u001b[0mread\u001b[0m\u001b[0;34m(\u001b[0m\u001b[0;34m)\u001b[0m\u001b[0;34m\u001b[0m\u001b[0;34m\u001b[0m\u001b[0m\n\u001b[0m\u001b[1;32m    838\u001b[0m     \u001b[0;32mexcept\u001b[0m \u001b[0mIOError\u001b[0m \u001b[0;32mas\u001b[0m \u001b[0merr\u001b[0m\u001b[0;34m:\u001b[0m\u001b[0;34m\u001b[0m\u001b[0;34m\u001b[0m\u001b[0m\n",
      "\u001b[0;31mFileNotFoundError\u001b[0m: [Errno 2] No such file or directory: 'trace.trc'",
      "\nDuring handling of the above exception, another exception occurred:\n",
      "\u001b[0;31mAlamoError\u001b[0m                                Traceback (most recent call last)",
      "\u001b[0;32m<ipython-input-3-164d17bb1378>\u001b[0m in \u001b[0;36m<module>\u001b[0;34m\u001b[0m\n\u001b[1;32m     23\u001b[0m \u001b[0mX_data\u001b[0m \u001b[0;34m=\u001b[0m \u001b[0mresult\u001b[0m\u001b[0;34m[\u001b[0m\u001b[0;36m1\u001b[0m\u001b[0;34m]\u001b[0m\u001b[0;34m\u001b[0m\u001b[0;34m\u001b[0m\u001b[0m\n\u001b[1;32m     24\u001b[0m \u001b[0;34m\u001b[0m\u001b[0m\n\u001b[0;32m---> 25\u001b[0;31m \u001b[0mres\u001b[0m \u001b[0;34m=\u001b[0m \u001b[0malamopy\u001b[0m\u001b[0;34m.\u001b[0m\u001b[0malamo\u001b[0m\u001b[0;34m(\u001b[0m\u001b[0mX_data\u001b[0m\u001b[0;34m,\u001b[0m\u001b[0mY_target\u001b[0m\u001b[0;34m,\u001b[0m\u001b[0mmonomialpower\u001b[0m\u001b[0;34m=\u001b[0m\u001b[0;34m(\u001b[0m\u001b[0;36m1\u001b[0m\u001b[0;34m,\u001b[0m\u001b[0;36m2\u001b[0m\u001b[0;34m)\u001b[0m\u001b[0;34m,\u001b[0m\u001b[0mmulti2power\u001b[0m\u001b[0;34m=\u001b[0m\u001b[0;34m(\u001b[0m\u001b[0;36m1\u001b[0m\u001b[0;34m,\u001b[0m\u001b[0;36m4\u001b[0m\u001b[0;34m)\u001b[0m\u001b[0;34m)\u001b[0m\u001b[0;34m\u001b[0m\u001b[0;34m\u001b[0m\u001b[0m\n\u001b[0m\u001b[1;32m     26\u001b[0m \u001b[0mprint\u001b[0m\u001b[0;34m(\u001b[0m\u001b[0mtype\u001b[0m\u001b[0;34m(\u001b[0m\u001b[0mres\u001b[0m\u001b[0;34m[\u001b[0m\u001b[0;34m'model'\u001b[0m\u001b[0;34m]\u001b[0m\u001b[0;34m)\u001b[0m\u001b[0;34m)\u001b[0m\u001b[0;34m\u001b[0m\u001b[0;34m\u001b[0m\u001b[0m\n\u001b[1;32m     27\u001b[0m \u001b[0mtemp\u001b[0m \u001b[0;34m=\u001b[0m \u001b[0mres\u001b[0m\u001b[0;34m[\u001b[0m\u001b[0;34m'model'\u001b[0m\u001b[0;34m]\u001b[0m\u001b[0;34m\u001b[0m\u001b[0;34m\u001b[0m\u001b[0m\n",
      "\u001b[0;32m/usr/local/lib/python3.7/dist-packages/alamopy-0.0.0-py3.7.egg/alamopy/doalamo.py\u001b[0m in \u001b[0;36malamo\u001b[0;34m(xdata, zdata, **kwargs)\u001b[0m\n\u001b[1;32m    251\u001b[0m \u001b[0;34m\u001b[0m\u001b[0m\n\u001b[1;32m    252\u001b[0m     \u001b[0;31m# Open the trace file and pull appropriate results\u001b[0m\u001b[0;34m\u001b[0m\u001b[0;34m\u001b[0m\u001b[0;34m\u001b[0m\u001b[0m\n\u001b[0;32m--> 253\u001b[0;31m     \u001b[0mreadTraceFile\u001b[0m\u001b[0;34m(\u001b[0m\u001b[0mvargs\u001b[0m\u001b[0;34m,\u001b[0m \u001b[0mdata\u001b[0m\u001b[0;34m,\u001b[0m \u001b[0mdebug\u001b[0m\u001b[0;34m)\u001b[0m\u001b[0;34m;\u001b[0m\u001b[0;34m\u001b[0m\u001b[0;34m\u001b[0m\u001b[0m\n\u001b[0m\u001b[1;32m    254\u001b[0m \u001b[0;34m\u001b[0m\u001b[0m\n\u001b[1;32m    255\u001b[0m     \u001b[0;31m# write python file of regressed model\u001b[0m\u001b[0;34m\u001b[0m\u001b[0;34m\u001b[0m\u001b[0;34m\u001b[0m\u001b[0m\n",
      "\u001b[0;32m/usr/local/lib/python3.7/dist-packages/alamopy-0.0.0-py3.7.egg/alamopy/doalamo.py\u001b[0m in \u001b[0;36mreadTraceFile\u001b[0;34m(vargs, data, debug)\u001b[0m\n\u001b[1;32m    865\u001b[0m         \u001b[0;32melse\u001b[0m\u001b[0;34m:\u001b[0m\u001b[0;34m\u001b[0m\u001b[0;34m\u001b[0m\u001b[0m\n\u001b[1;32m    866\u001b[0m           raise almerror.AlamoError('Cannot read from trace file \"{}\": {}'\n\u001b[0;32m--> 867\u001b[0;31m                                   .format(trace_file, err))\n\u001b[0m\u001b[1;32m    868\u001b[0m \u001b[0;34m\u001b[0m\u001b[0m\n\u001b[1;32m    869\u001b[0m     \u001b[0;32mtry\u001b[0m\u001b[0;34m:\u001b[0m\u001b[0;34m\u001b[0m\u001b[0;34m\u001b[0m\u001b[0m\n",
      "\u001b[0;31mAlamoError\u001b[0m: Cannot read from trace file \"trace.trc\": [Errno 2] No such file or directory: 'trace.trc'"
     ]
    }
   ],
   "source": [
    "import alamopy\n",
    "import numpy as np\n",
    "import matplotlib.pyplot as plt\n",
    "import pandas as pd\n",
    "\n",
    "def get_the_predicted_bugs():\n",
    "    changed_buggy_matrix = pd.read_csv(\"predicted_bugs.csv\")\n",
    "    Y_target = changed_buggy_matrix['bugs'].values\n",
    "    X_data = changed_buggy_matrix.values[:,3:18]\n",
    "    return [Y_target, X_data]\n",
    "\n",
    "\n",
    "\n",
    "def plot_the_predict_vs_data(predict_result):\n",
    "    x = np.arange(0, len(Y_predict),1)\n",
    "    plt.plot(x,predict_result,label = \"Predict_result\")\n",
    "    plt.plot(x,Y_target,label = \"target\")\n",
    "    plt.legend()\n",
    "    \n",
    "\n",
    "result = get_the_predicted_bugs()\n",
    "Y_target = result[0]\n",
    "X_data = result[1]\n",
    "\n",
    "res = alamopy.alamo(X_data,Y_target,monomialpower=(1,2),multi2power=(1,4))\n",
    "print(type(res['model']))\n",
    "temp = res['model']\n",
    "print(\"Model expression: \",res['model'],'\\n')"
   ]
  },
  {
   "cell_type": "code",
   "execution_count": null,
   "metadata": {},
   "outputs": [],
   "source": []
  }
 ],
 "metadata": {
  "kernelspec": {
   "display_name": "Python 3",
   "language": "python",
   "name": "python3"
  },
  "language_info": {
   "codemirror_mode": {
    "name": "ipython",
    "version": 3
   },
   "file_extension": ".py",
   "mimetype": "text/x-python",
   "name": "python",
   "nbconvert_exporter": "python",
   "pygments_lexer": "ipython3",
   "version": "3.7.1"
  }
 },
 "nbformat": 4,
 "nbformat_minor": 2
}
