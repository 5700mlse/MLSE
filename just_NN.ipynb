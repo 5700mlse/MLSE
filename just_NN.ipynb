{
 "cells": [
  {
   "cell_type": "code",
   "execution_count": 26,
   "metadata": {},
   "outputs": [],
   "source": [
    "\n",
    "from imblearn.over_sampling import RandomOverSampler\n",
    "from collections import Counter\n",
    "import pandas as pd\n",
    "import os\n",
    "import numpy as np\n",
    "from sklearn.ensemble import RandomForestClassifier\n",
    "from sklearn.model_selection import cross_val_score\n",
    "from sklearn.metrics import precision_score, recall_score\n",
    "import MLSE_Class as MLSE"
   ]
  },
  {
   "cell_type": "code",
   "execution_count": 27,
   "metadata": {},
   "outputs": [],
   "source": [
    "??MLSE"
   ]
  },
  {
   "cell_type": "code",
   "execution_count": 4,
   "metadata": {},
   "outputs": [
    {
     "name": "stdout",
     "output_type": "stream",
     "text": [
      "AlltheMatrix/differentSoftware/eclipse/eclipse_all_data.csv\n",
      "lens: 50\n",
      "start:2,end:43\n",
      "(997,)\n",
      "the data shape is (997, 40)\n",
      "<class 'numpy.ndarray'>\n",
      "@@@@@@@@@@@@@@@@@@@@@@@@@@\n",
      "[[0 0 0 ... 0 3 9]\n",
      " [61 12 9 ... 34 290 1603]\n",
      " [3 0 0 ... 0 2 23]\n",
      " ...\n",
      " [32 1 1 ... 17 26 111]\n",
      " [8 0 0 ... 0 20 31]\n",
      " [0 0 0 ... 2 3 7]] (698,)\n",
      "@@@@@@@@@@@@@@@@@@@@@@@@@@\n",
      "AlltheMatrix/differentSoftware/equinox/equinox_all_data.csv\n",
      "lens: 50\n",
      "start:2,end:43\n",
      "(324,)\n",
      "the data shape is (324, 40)\n",
      "<class 'numpy.ndarray'>\n",
      "@@@@@@@@@@@@@@@@@@@@@@@@@@\n",
      "[[5 1 0 ... 0 5 9]\n",
      " [1 0 0 ... 0 2 8]\n",
      " [3 0 0 ... 0 4 5]\n",
      " ...\n",
      " [1 0 0 ... 0 2 4]\n",
      " [1 0 0 ... 0 2 14]\n",
      " [1 0 0 ... 0 1 3]] (227,)\n",
      "@@@@@@@@@@@@@@@@@@@@@@@@@@\n",
      "AlltheMatrix/differentSoftware/pde/pde_all_data.csv\n",
      "lens: 50\n",
      "start:2,end:43\n",
      "(1497,)\n",
      "the data shape is (1497, 40)\n",
      "<class 'numpy.ndarray'>\n",
      "@@@@@@@@@@@@@@@@@@@@@@@@@@\n",
      "[[1 0 0 ... 0 2 95]\n",
      " [1 1 0 ... 0 14 94]\n",
      " [0 0 0 ... 0 2 123]\n",
      " ...\n",
      " [0 0 0 ... 0 2 6]\n",
      " [9 0 0 ... 0 2 9]\n",
      " [3 0 0 ... 0 2 17]] (1048,)\n",
      "@@@@@@@@@@@@@@@@@@@@@@@@@@\n",
      "AlltheMatrix/differentSoftware/lucene/lucene_all_data.csv\n",
      "lens: 50\n",
      "start:2,end:43\n",
      "(691,)\n",
      "the data shape is (691, 40)\n",
      "<class 'numpy.ndarray'>\n",
      "@@@@@@@@@@@@@@@@@@@@@@@@@@\n",
      "[[0 0 0 ... 0 3 8]\n",
      " [1 0 0 ... 4 0 14]\n",
      " [0 0 0 ... 0 11 25]\n",
      " ...\n",
      " [2 0 0 ... 10 2 10]\n",
      " [1 0 0 ... 0 4 6]\n",
      " [6 0 0 ... 0 16 124]] (484,)\n",
      "@@@@@@@@@@@@@@@@@@@@@@@@@@\n",
      "AlltheMatrix/differentSoftware/mylyn/mylyn_all_data.csv\n",
      "lens: 50\n",
      "start:2,end:43\n",
      "(1862,)\n",
      "the data shape is (1862, 40)\n",
      "<class 'numpy.ndarray'>\n",
      "@@@@@@@@@@@@@@@@@@@@@@@@@@\n",
      "[[4 0 0 ... 0 8 13]\n",
      " [1 0 0 ... 1 9 20]\n",
      " [4 0 0 ... 0 4 27]\n",
      " ...\n",
      " [5 0 0 ... 0 3 27]\n",
      " [1 0 0 ... 0 2 28]\n",
      " [0 0 0 ... 0 8 104]] (1303,)\n",
      "@@@@@@@@@@@@@@@@@@@@@@@@@@\n"
     ]
    }
   ],
   "source": [
    "ros = RandomOverSampler(random_state=0)\n",
    "\n",
    "X_train_eclipse,Y_train_bugs_eclipse,X_test_eclipse,Y_test_bugs_eclipse = MLSE.classification_binary(\"differentSoftware/eclipse/eclipse_all_data.csv\",\n",
    "                                                                     'numberOfBugsFoundUntil',\"wmc\",0,\n",
    "                                                                       \"bugs\")\n",
    "X_resampled_eclipse, y_resampled_eclipse = ros.fit_resample(X_train_eclipse, Y_train_bugs_eclipse)\n",
    "X_train_equinox,Y_train_bugs_equinox,X_test_equinox,Y_test_bugs_equinox = MLSE.classification_binary(\"differentSoftware/equinox/equinox_all_data.csv\",\n",
    "                                                                     'numberOfBugsFoundUntil',\"wmc\",0,\n",
    "                                                                       \"bugs\")\n",
    "X_resampled_equinox, y_resampled_equinox = ros.fit_resample(X_train_equinox, Y_train_bugs_equinox)\n",
    "X_train_pde,Y_train_bugs_pde,X_test_pde,Y_test_bugs_pde = MLSE.classification_binary(\"differentSoftware/pde/pde_all_data.csv\",\n",
    "                                                                     'numberOfBugsFoundUntil',\"wmc\",0,\n",
    "                                                                       \"bugs\")\n",
    "X_resampled_pde, y_resampled_pde = ros.fit_resample(X_train_pde, Y_train_bugs_pde)\n",
    "\n",
    "X_train_lucene,Y_train_bugs_lucene,X_test_lucene,Y_test_bugs_lucene = MLSE.classification_binary(\"differentSoftware/lucene/lucene_all_data.csv\",\n",
    "                                                                     'numberOfBugsFoundUntil',\"wmc\",0,\n",
    "                                                                       \"bugs\")\n",
    "X_resampled_lucene, y_resampled_lucene = ros.fit_resample(X_train_lucene, Y_train_bugs_lucene)\n",
    "\n",
    "X_train_mylyn,Y_train_bugs_mylyn,X_test_mylyn,Y_test_bugs_mylyn = MLSE.classification_binary(\"differentSoftware/mylyn/mylyn_all_data.csv\",\n",
    "                                                                     'numberOfBugsFoundUntil',\"wmc\",0,\n",
    "                                                                       \"bugs\")\n",
    "X_resampled_mylyn, y_resampled_mylyn = ros.fit_resample(X_train_lucene, Y_train_bugs_lucene)\n"
   ]
  },
  {
   "cell_type": "code",
   "execution_count": 62,
   "metadata": {},
   "outputs": [],
   "source": [
    "# result1 = [None]*4\n",
    "# result2 = [result1]*5\n",
    "# result = [result2]*5\n",
    "result = []\n",
    "result_a = []\n",
    "result_r = []\n",
    "result_p = []\n",
    "result_f = []\n",
    "import MLSE_Class as MLSE"
   ]
  },
  {
   "cell_type": "code",
   "execution_count": 55,
   "metadata": {},
   "outputs": [],
   "source": [
    "??MLSE"
   ]
  },
  {
   "cell_type": "code",
   "execution_count": 63,
   "metadata": {},
   "outputs": [
    {
     "name": "stdout",
     "output_type": "stream",
     "text": [
      "X_train_eclipse X_train_eclipse\n",
      "0 0\n",
      "The test accuracy score is 0.6989966555183946\n",
      "The test recall score is 0.7586206896551724\n",
      "The test precision score is 0.36666666666666664\n",
      "The test f1 score is 0.4943820224719101\n",
      "·············~·······\n",
      "X_train_eclipse X_train_pde\n",
      "0 1\n",
      "The test accuracy score is 0.5412026726057907\n",
      "The test recall score is 0.6166666666666667\n",
      "The test precision score is 0.16818181818181818\n",
      "The test f1 score is 0.2642857142857143\n",
      "·············~·······\n",
      "X_train_eclipse X_train_equinox\n",
      "0 2\n",
      "The test accuracy score is 0.7525773195876289\n",
      "The test recall score is 0.5681818181818182\n",
      "The test precision score is 0.8333333333333334\n",
      "The test f1 score is 0.6756756756756758\n",
      "·············~·······\n",
      "X_train_eclipse X_train_lucene\n",
      "0 3\n",
      "The test accuracy score is 0.6038647342995169\n",
      "The test recall score is 0.5789473684210527\n",
      "The test precision score is 0.12941176470588237\n",
      "The test f1 score is 0.2115384615384616\n",
      "·············~·······\n",
      "X_train_eclipse X_train_mylyn\n",
      "0 4\n",
      "The test accuracy score is 0.5670840787119857\n",
      "The test recall score is 0.5909090909090909\n",
      "The test precision score is 0.15354330708661418\n",
      "The test f1 score is 0.24375\n",
      "·············~·······\n",
      "X_train_pde X_train_eclipse\n",
      "1 0\n",
      "The test accuracy score is 0.6655518394648829\n",
      "The test recall score is 0.41379310344827586\n",
      "The test precision score is 0.26666666666666666\n",
      "The test f1 score is 0.32432432432432434\n",
      "·············~·······\n",
      "X_train_pde X_train_pde\n",
      "1 1\n",
      "The test accuracy score is 0.7572383073496659\n",
      "The test recall score is 0.5\n",
      "The test precision score is 0.27522935779816515\n",
      "The test f1 score is 0.3550295857988166\n",
      "·············~·······\n",
      "X_train_pde X_train_equinox\n",
      "1 2\n",
      "The test accuracy score is 0.3917525773195876\n",
      "The test recall score is 0.4318181818181818\n",
      "The test precision score is 0.3584905660377358\n",
      "The test f1 score is 0.39175257731958757\n",
      "·············~·······\n",
      "X_train_pde X_train_lucene\n",
      "1 3\n",
      "The test accuracy score is 0.6714975845410628\n",
      "The test recall score is 0.21052631578947367\n",
      "The test precision score is 0.07017543859649122\n",
      "The test f1 score is 0.10526315789473684\n",
      "·············~·······\n",
      "X_train_pde X_train_mylyn\n",
      "1 4\n",
      "The test accuracy score is 0.5724508050089445\n",
      "The test recall score is 0.48484848484848486\n",
      "The test precision score is 0.1350210970464135\n",
      "The test f1 score is 0.2112211221122112\n",
      "·············~·······\n",
      "X_train_equinox X_train_eclipse\n",
      "2 0\n",
      "The test accuracy score is 0.6187290969899666\n",
      "The test recall score is 0.8275862068965517\n",
      "The test precision score is 0.3157894736842105\n",
      "The test f1 score is 0.45714285714285713\n",
      "·············~·······\n",
      "X_train_equinox X_train_pde\n",
      "2 1\n",
      "The test accuracy score is 0.5879732739420935\n",
      "The test recall score is 0.5666666666666667\n",
      "The test precision score is 0.17616580310880828\n",
      "The test f1 score is 0.26877470355731226\n",
      "·············~·······\n",
      "X_train_equinox X_train_equinox\n",
      "2 2\n",
      "The test accuracy score is 0.422680412371134\n",
      "The test recall score is 0.5454545454545454\n",
      "The test precision score is 0.4\n",
      "The test f1 score is 0.4615384615384615\n",
      "·············~·······\n",
      "X_train_equinox X_train_lucene\n",
      "2 3\n",
      "The test accuracy score is 0.642512077294686\n",
      "The test recall score is 0.5263157894736842\n",
      "The test precision score is 0.13333333333333333\n",
      "The test f1 score is 0.2127659574468085\n",
      "·············~·······\n",
      "X_train_equinox X_train_mylyn\n",
      "2 4\n",
      "The test accuracy score is 0.49016100178890876\n",
      "The test recall score is 0.6515151515151515\n",
      "The test precision score is 0.14098360655737704\n",
      "The test f1 score is 0.23180592991913745\n",
      "·············~·······\n",
      "X_train_lucene X_train_eclipse\n",
      "3 0\n",
      "The test accuracy score is 0.725752508361204\n",
      "The test recall score is 0.5517241379310345\n",
      "The test precision score is 0.36363636363636365\n",
      "The test f1 score is 0.4383561643835616\n",
      "·············~·······\n",
      "X_train_lucene X_train_pde\n",
      "3 1\n",
      "The test accuracy score is 0.6703786191536748\n",
      "The test recall score is 0.6\n",
      "The test precision score is 0.225\n",
      "The test f1 score is 0.3272727272727273\n",
      "·············~·······\n",
      "X_train_lucene X_train_equinox\n",
      "3 2\n",
      "The test accuracy score is 0.7010309278350515\n",
      "The test recall score is 0.45454545454545453\n",
      "The test precision score is 0.8\n",
      "The test f1 score is 0.5797101449275363\n",
      "·············~·······\n",
      "X_train_lucene X_train_lucene\n",
      "3 3\n",
      "The test accuracy score is 0.7198067632850241\n",
      "The test recall score is 0.7368421052631579\n",
      "The test precision score is 0.208955223880597\n",
      "The test f1 score is 0.3255813953488372\n",
      "·············~·······\n",
      "X_train_lucene X_train_mylyn\n",
      "3 4\n",
      "The test accuracy score is 0.7137745974955277\n",
      "The test recall score is 0.42424242424242425\n",
      "The test precision score is 0.18666666666666668\n",
      "The test f1 score is 0.2592592592592593\n",
      "·············~·······\n",
      "X_train_mylyn X_train_eclipse\n",
      "4 0\n",
      "The test accuracy score is 0.7357859531772575\n",
      "The test recall score is 0.5344827586206896\n",
      "The test precision score is 0.37349397590361444\n",
      "The test f1 score is 0.43971631205673756\n",
      "·············~·······\n",
      "X_train_mylyn X_train_pde\n",
      "4 1\n",
      "The test accuracy score is 0.6815144766146993\n",
      "The test recall score is 0.48333333333333334\n",
      "The test precision score is 0.20567375886524822\n",
      "The test f1 score is 0.2885572139303482\n",
      "·············~·······\n",
      "X_train_mylyn X_train_equinox\n",
      "4 2\n",
      "The test accuracy score is 0.6804123711340206\n",
      "The test recall score is 0.38636363636363635\n",
      "The test precision score is 0.8095238095238095\n",
      "The test f1 score is 0.523076923076923\n",
      "·············~·······\n",
      "X_train_mylyn X_train_lucene\n",
      "4 3\n",
      "The test accuracy score is 0.7391304347826086\n",
      "The test recall score is 0.7368421052631579\n",
      "The test precision score is 0.2222222222222222\n",
      "The test f1 score is 0.34146341463414637\n",
      "·············~·······\n",
      "X_train_mylyn X_train_mylyn\n",
      "4 4\n",
      "The test accuracy score is 0.7352415026833632\n",
      "The test recall score is 0.3787878787878788\n",
      "The test precision score is 0.1893939393939394\n",
      "The test f1 score is 0.25252525252525254\n",
      "·············~·······\n"
     ]
    }
   ],
   "source": [
    "list11 = [X_resampled_eclipse, X_resampled_pde,X_resampled_equinox,X_resampled_lucene,X_resampled_mylyn]\n",
    "list22 = [y_resampled_eclipse,y_resampled_pde,y_resampled_equinox,y_resampled_lucene,y_resampled_mylyn]\n",
    "list33 = [X_test_eclipse, X_test_pde,X_test_equinox,X_test_lucene,X_test_mylyn]\n",
    "list44 = [Y_test_bugs_eclipse,Y_test_bugs_pde,Y_test_bugs_equinox,Y_test_bugs_lucene,Y_test_bugs_mylyn]\n",
    "list_name = ['X_train_eclipse', 'X_train_pde','X_train_equinox','X_train_lucene','X_train_mylyn']\n",
    "import MLSE_Class as MLSE\n",
    "for i in range(len(list11)):\n",
    "    for j in range(len(list11)):\n",
    "        print(list_name[i],list_name[j])\n",
    "        print(i,j)\n",
    "        result = MLSE.neuralNetworks(list11[i],list22[i],list33[j],list44[j])\n",
    "        result_a += result[0]\n",
    "        result_r += result[1]\n",
    "        result_p += result[2]\n",
    "        result_f += result[3]\n",
    "        print(\"·············~·······\")"
   ]
  },
  {
   "cell_type": "code",
   "execution_count": 53,
   "metadata": {},
   "outputs": [
    {
     "data": {
      "text/plain": [
       "(0.640339162045044, 0.5306529175603586, 0.282641590208881, 0.33994980627773946)"
      ]
     },
     "execution_count": 53,
     "metadata": {},
     "output_type": "execute_result"
    }
   ],
   "source": [
    "#         mclf = MLPClassifier(solver='lbfgs', alpha=1e-5, hidden_layer_sizes=(100, 100))\n",
    "\n",
    "np.mean(result_a),np.mean(result_r),np.mean(result_p),np.mean(result_f)"
   ]
  },
  {
   "cell_type": "code",
   "execution_count": 58,
   "metadata": {},
   "outputs": [
    {
     "data": {
      "text/plain": [
       "(0.6378798359434483,\n",
       " 0.5313338832975857,\n",
       " 0.2877666634651665,\n",
       " 0.3416469954817795)"
      ]
     },
     "execution_count": 58,
     "metadata": {},
     "output_type": "execute_result"
    }
   ],
   "source": [
    "#         mclf = MLPClassifier(solver='sgd', alpha=1e-5, hidden_layer_sizes=(50,100,50))\n",
    "np.mean(result_a),np.mean(result_r),np.mean(result_p),np.mean(result_f)"
   ]
  },
  {
   "cell_type": "code",
   "execution_count": 61,
   "metadata": {},
   "outputs": [
    {
     "data": {
      "text/plain": [
       "(0.6267956568665223,\n",
       " 0.5448847824891382,\n",
       " 0.27978941176303496,\n",
       " 0.3406530861309988)"
      ]
     },
     "execution_count": 61,
     "metadata": {},
     "output_type": "execute_result"
    }
   ],
   "source": [
    "#         mclf = MLPClassifier(solver='sgd', alpha=1e-5, hidden_layer_sizes=(50,100,50),learning_rate = \"adapative\")\n",
    "np.mean(result_a),np.mean(result_r),np.mean(result_p),np.mean(result_f)"
   ]
  },
  {
   "cell_type": "code",
   "execution_count": 64,
   "metadata": {},
   "outputs": [
    {
     "data": {
      "text/plain": [
       "(0.6434840236526672,\n",
       " 0.5423605565638233,\n",
       " 0.3003023277158391,\n",
       " 0.3473907743376538)"
      ]
     },
     "execution_count": 64,
     "metadata": {},
     "output_type": "execute_result"
    }
   ],
   "source": [
    "#         mclf = MLPClassifier(solver='sgd', alpha=1e-5, hidden_layer_sizes=(50,100,50),activation = \"logistic\")\n",
    "np.mean(result_a),np.mean(result_r),np.mean(result_p),np.mean(result_f)"
   ]
  },
  {
   "cell_type": "code",
   "execution_count": null,
   "metadata": {},
   "outputs": [],
   "source": []
  }
 ],
 "metadata": {
  "kernelspec": {
   "display_name": "Python 3",
   "language": "python",
   "name": "python3"
  },
  "language_info": {
   "codemirror_mode": {
    "name": "ipython",
    "version": 3
   },
   "file_extension": ".py",
   "mimetype": "text/x-python",
   "name": "python",
   "nbconvert_exporter": "python",
   "pygments_lexer": "ipython3",
   "version": "3.7.1"
  }
 },
 "nbformat": 4,
 "nbformat_minor": 2
}
