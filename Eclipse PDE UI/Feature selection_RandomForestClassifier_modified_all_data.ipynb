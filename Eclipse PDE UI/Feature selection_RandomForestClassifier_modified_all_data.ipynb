{
 "cells": [
  {
   "cell_type": "code",
   "execution_count": 54,
   "metadata": {},
   "outputs": [],
   "source": [
    "import numpy as np\n",
    "import pandas as pd\n",
    "from sklearn.metrics import accuracy_score  \n",
    "from sklearn.metrics import recall_score  \n",
    "from sklearn.model_selection import GridSearchCV\n",
    "from sklearn.ensemble import RandomForestClassifier\n",
    "from sklearn.model_selection import train_test_split\n",
    "from sklearn import svm\n",
    "from sklearn.neural_network import MLPClassifier\n",
    "from sklearn.ensemble import AdaBoostClassifier\n",
    "from sklearn.linear_model import LogisticRegression \n",
    "from sklearn import neighbors\n",
    "from sklearn import tree\n",
    "from sklearn.ensemble import GradientBoostingClassifier\n",
    "from sklearn.neighbors import KNeighborsClassifier\n",
    "from sklearn.naive_bayes import GaussianNB\n",
    "from sklearn.naive_bayes import BernoulliNB\n",
    "from sklearn.feature_selection import VarianceThreshold\n",
    "from sklearn.feature_selection import SelectKBest\n",
    "from sklearn.feature_selection import f_classif\n",
    "from sklearn.feature_selection import mutual_info_classif\n",
    "from sklearn.svm import LinearSVC\n",
    "from sklearn.feature_selection import SelectFromModel\n",
    "from sklearn.ensemble import ExtraTreesClassifier\n",
    "import matplotlib.pyplot as plt"
   ]
  },
  {
   "cell_type": "markdown",
   "metadata": {},
   "source": [
    "## get the X_date, Y_target"
   ]
  },
  {
   "cell_type": "code",
   "execution_count": 55,
   "metadata": {},
   "outputs": [],
   "source": [
    "def get_the_predicted_bugs(name, num1, num2):\n",
    "    All_Data = pd.read_csv(name, usecols = [i for i in range(num1, num2)]).values\n",
    "    return All_Data"
   ]
  },
  {
   "cell_type": "code",
   "execution_count": 56,
   "metadata": {},
   "outputs": [],
   "source": [
    "data = get_the_predicted_bugs('modified_all_data.csv', 2, 45)"
   ]
  },
  {
   "cell_type": "markdown",
   "metadata": {},
   "source": [
    "## RandomForestClassifier (best accuracy_score)"
   ]
  },
  {
   "cell_type": "code",
   "execution_count": 69,
   "metadata": {},
   "outputs": [],
   "source": [
    "accuracy_score_list = []\n",
    "recall_score_list = []\n",
    "for i in range(100):\n",
    "    data_random = np.random.permutation(data)\n",
    "    x = data_random[:, [i for i in range(data.shape[1] - 1)]]\n",
    "    y = data_random[:, -1]\n",
    "    x_train, x_test, y_train, y_test = train_test_split(x, y, test_size = 0.4, random_state = 0)\n",
    "    rf_clf = RandomForestClassifier(n_estimators = 200, criterion = 'entropy', n_jobs = -1)\n",
    "    rf_clf.fit(x_train, y_train)\n",
    "    \n",
    "    y_pre = rf_clf.predict(x_test)\n",
    "    accuracy_score_list.append(accuracy_score(y_test, y_pre))\n",
    "    recall_score_list.append(recall_score(y_test, y_pre))"
   ]
  },
  {
   "cell_type": "code",
   "execution_count": 70,
   "metadata": {},
   "outputs": [
    {
     "data": {
      "text/plain": [
       "0.8686477462437395"
      ]
     },
     "execution_count": 70,
     "metadata": {},
     "output_type": "execute_result"
    }
   ],
   "source": [
    "np.mean(accuracy_score_list)"
   ]
  },
  {
   "cell_type": "code",
   "execution_count": 71,
   "metadata": {},
   "outputs": [
    {
     "data": {
      "text/plain": [
       "0.16418587690014935"
      ]
     },
     "execution_count": 71,
     "metadata": {},
     "output_type": "execute_result"
    }
   ],
   "source": [
    "np.mean(recall_score_list)"
   ]
  },
  {
   "cell_type": "markdown",
   "metadata": {},
   "source": [
    "By RandomForestClassifier, aftering tuning the parameters for getting the best accuracy_score, the average accuracy_score of 100 times is about is about 0.87 and the average recall_score of 100 times is about 0.16 with n_estimators = 200, criterion = 'entropy'."
   ]
  },
  {
   "cell_type": "markdown",
   "metadata": {},
   "source": [
    "## Feature selection"
   ]
  },
  {
   "cell_type": "markdown",
   "metadata": {},
   "source": [
    "## Removing features with low variance"
   ]
  },
  {
   "cell_type": "code",
   "execution_count": 72,
   "metadata": {},
   "outputs": [],
   "source": [
    "accuracy_score_list = []\n",
    "recall_score_list = []\n",
    "for i in range(100):\n",
    "    data_random = np.random.permutation(data)\n",
    "    x = data_random[:, [i for i in range(data.shape[1] - 1)]]\n",
    "    y = data_random[:, -1]\n",
    "    sel = VarianceThreshold(threshold=(.8 * (1 - .8)))\n",
    "    x_new = sel.fit_transform(x)\n",
    "    x_train, x_test, y_train, y_test = train_test_split(x_new, y, test_size = 0.4, random_state = 0)\n",
    "    rf_clf = RandomForestClassifier(n_estimators = 200, criterion = 'entropy', n_jobs = -1)\n",
    "    rf_clf.fit(x_train, y_train)    \n",
    "    y_pre = rf_clf.predict(x_test)\n",
    "    accuracy_score_list.append(accuracy_score(y_test, y_pre))\n",
    "    recall_score_list.append(recall_score(y_test, y_pre))"
   ]
  },
  {
   "cell_type": "code",
   "execution_count": 73,
   "metadata": {},
   "outputs": [
    {
     "data": {
      "text/plain": [
       "(0.8643071786310518, 0.14248092487242778)"
      ]
     },
     "execution_count": 73,
     "metadata": {},
     "output_type": "execute_result"
    }
   ],
   "source": [
    "np.mean(accuracy_score_list), np.mean(recall_score_list)"
   ]
  },
  {
   "cell_type": "code",
   "execution_count": 75,
   "metadata": {},
   "outputs": [
    {
     "data": {
      "text/plain": [
       "((1497, 42), (1497, 35))"
      ]
     },
     "execution_count": 75,
     "metadata": {},
     "output_type": "execute_result"
    }
   ],
   "source": [
    "x.shape, x_new.shape"
   ]
  },
  {
   "cell_type": "markdown",
   "metadata": {},
   "source": [
    "By Removing features with low variance, the average accuracy_score of 100 times is about 0.864, the result is not good enough."
   ]
  },
  {
   "cell_type": "markdown",
   "metadata": {},
   "source": [
    "## Univariate feature selection"
   ]
  },
  {
   "cell_type": "code",
   "execution_count": 76,
   "metadata": {},
   "outputs": [],
   "source": [
    "def f(num_of_col, method):\n",
    "    accuracy_score_list = []\n",
    "    recall_score_list = []\n",
    "    for i in range(100):\n",
    "        data_random = np.random.permutation(data)\n",
    "        x = data_random[:, [i for i in range(data.shape[1] - 1)]]\n",
    "        y = data_random[:, -1]\n",
    "        x_new = SelectKBest(method, k = num_of_col).fit_transform(x, y)\n",
    "        x_train, x_test, y_train, y_test = train_test_split(x_new, y, test_size = 0.4, random_state = 0)\n",
    "        \n",
    "        rf_clf = RandomForestClassifier(n_estimators = 200, criterion = 'entropy', n_jobs = -1)\n",
    "        rf_clf.fit(x_train, y_train) \n",
    "\n",
    "        y_pre = rf_clf.predict(x_test)\n",
    "        accuracy_score_list.append(accuracy_score(y_test, y_pre))\n",
    "        recall_score_list.append(recall_score(y_test, y_pre))\n",
    "    average_accuracy_score = np.mean(accuracy_score_list)\n",
    "    average_recall_score = np.mean(recall_score_list)\n",
    "    return [average_accuracy_score, average_recall_score, x, x_new, x.shape, x_new.shape]"
   ]
  },
  {
   "cell_type": "markdown",
   "metadata": {},
   "source": [
    "## f_classif"
   ]
  },
  {
   "cell_type": "code",
   "execution_count": 78,
   "metadata": {},
   "outputs": [
    {
     "data": {
      "text/plain": [
       "[0.8669449081803003,\n",
       " 0.16155618044938042,\n",
       " array([[  1.,   0.,   0., ...,   2.,  13.,   3.],\n",
       "        [  1.,   1.,   0., ...,   1.,   5.,   2.],\n",
       "        [  1.,   1.,   0., ...,   1.,  27.,  10.],\n",
       "        ...,\n",
       "        [  1.,   1.,   0., ...,   7., 179.,  50.],\n",
       "        [  1.,   1.,   0., ...,   2.,  18.,   8.],\n",
       "        [  1.,   1.,   0., ...,   3.,  29.,  14.]]),\n",
       " array([[  1.,   0.,   0., ...,   0.,  13.,   3.],\n",
       "        [  1.,   1.,   0., ...,   0.,   5.,   2.],\n",
       "        [  1.,   1.,   0., ...,   1.,  27.,  10.],\n",
       "        ...,\n",
       "        [  1.,   1.,   0., ...,  11., 179.,  50.],\n",
       "        [  1.,   1.,   0., ...,   0.,  18.,   8.],\n",
       "        [  1.,   1.,   0., ...,   2.,  29.,  14.]]),\n",
       " (1497, 42),\n",
       " (1497, 30)]"
      ]
     },
     "execution_count": 78,
     "metadata": {},
     "output_type": "execute_result"
    }
   ],
   "source": [
    "f(30, f_classif)"
   ]
  },
  {
   "cell_type": "code",
   "execution_count": 82,
   "metadata": {},
   "outputs": [
    {
     "data": {
      "text/plain": [
       "Text(0.5,1,'accuracy_score - numbers of columns')"
      ]
     },
     "execution_count": 82,
     "metadata": {},
     "output_type": "execute_result"
    },
    {
     "data": {
      "image/png": "[encoded data removed]",
      "text/plain": [
       "<Figure size 432x288 with 1 Axes>"
      ]
     },
     "metadata": {},
     "output_type": "display_data"
    }
   ],
   "source": [
    "list_num = [i for i in range(1, 43, 2)]\n",
    "list_recall_score =  [f(i, f_classif)[0] for i in range(1, 43, 2)]\n",
    "plt.plot(list_num, list_recall_score)\n",
    "plt.xlabel('numbers of columns')\n",
    "plt.ylabel('recall_score')\n",
    "plt.title('accuracy_score - numbers of columns')"
   ]
  },
  {
   "cell_type": "markdown",
   "metadata": {},
   "source": [
    "By Univariate feature selection and f_classif, generally the average accuracy_score of 100 times increases with the increasement of the unmber of columns, which means the accuracy_score increases with the increasement of the number of columns we choose as our actual input. As a result, removing features by this method cannot increase the accuracy_score. "
   ]
  }
 ],
 "metadata": {
  "kernelspec": {
   "display_name": "Python 3",
   "language": "python",
   "name": "python3"
  },
  "language_info": {
   "codemirror_mode": {
    "name": "ipython",
    "version": 3
   },
   "file_extension": ".py",
   "mimetype": "text/x-python",
   "name": "python",
   "nbconvert_exporter": "python",
   "pygments_lexer": "ipython3",
   "version": "3.6.5"
  }
 },
 "nbformat": 4,
 "nbformat_minor": 2
}
