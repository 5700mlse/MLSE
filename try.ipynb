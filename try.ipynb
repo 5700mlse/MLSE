{
 "cells": [
  {
   "cell_type": "code",
   "execution_count": 1,
   "metadata": {},
   "outputs": [],
   "source": [
    "import numpy as np\n",
    "import pandas as pd\n",
    "from sklearn.metrics import accuracy_score  \n",
    "from sklearn.metrics import recall_score  \n",
    "from sklearn.metrics import precision_score\n",
    "from sklearn.metrics import f1_score\n",
    "from sklearn.model_selection import GridSearchCV\n",
    "from sklearn.ensemble import RandomForestClassifier\n",
    "from sklearn.model_selection import train_test_split\n",
    "from sklearn import svm\n",
    "from sklearn.svm import OneClassSVM\n",
    "from sklearn.neural_network import MLPClassifier\n",
    "from sklearn.ensemble import AdaBoostClassifier\n",
    "from sklearn.linear_model import LogisticRegression \n",
    "from sklearn import neighbors\n",
    "from sklearn.tree import DecisionTreeClassifier\n",
    "from sklearn.ensemble import GradientBoostingClassifier\n",
    "from sklearn.neighbors import KNeighborsClassifier\n",
    "from sklearn.naive_bayes import GaussianNB\n",
    "from sklearn.naive_bayes import BernoulliNB\n",
    "import matplotlib.pyplot as plt\n",
    "from imblearn.over_sampling import SMOTE"
   ]
  },
  {
   "cell_type": "code",
   "execution_count": 2,
   "metadata": {},
   "outputs": [],
   "source": [
    "def get_the_predicted_bugs(name, num1, num2):\n",
    "    All_Data = pd.read_csv(name, usecols = [i for i in range(num1, num2)]).values\n",
    "    return All_Data"
   ]
  },
  {
   "cell_type": "code",
   "execution_count": 3,
   "metadata": {},
   "outputs": [],
   "source": [
    "data = get_the_predicted_bugs('modified-eclipse-metrics-files-3.0.csv', 2, 202)"
   ]
  },
  {
   "cell_type": "markdown",
   "metadata": {},
   "source": [
    "## remove some columns whose element is all the same"
   ]
  },
  {
   "cell_type": "code",
   "execution_count": 4,
   "metadata": {},
   "outputs": [],
   "source": [
    "def all_same(x):\n",
    "    return True if len(set(x)) == 1 else False"
   ]
  },
  {
   "cell_type": "code",
   "execution_count": 5,
   "metadata": {},
   "outputs": [
    {
     "name": "stdout",
     "output_type": "stream",
     "text": [
      "[38, 47, 67, 95, 96, 97, 98, 99, 100, 101, 102, 103, 104, 105, 106, 107, 108, 109, 110, 111, 112, 113, 114, 122, 179, 180, 181, 182, 183, 184, 185, 186, 187, 188, 189, 190, 191, 192, 193, 194, 195, 196, 197, 198]\n"
     ]
    }
   ],
   "source": [
    "all_same_index_list = []\n",
    "for i in range(len(data[0])):\n",
    "    if all_same(data[: ,i]):\n",
    "        all_same_index_list.append(i)\n",
    "print(all_same_index_list)\n",
    "data_new = np.delete(data, all_same_index_list, axis = 1)"
   ]
  },
  {
   "cell_type": "markdown",
   "metadata": {},
   "source": [
    "## Ty different algorithms"
   ]
  },
  {
   "cell_type": "code",
   "execution_count": 6,
   "metadata": {},
   "outputs": [],
   "source": [
    "def change_to_binary(x):\n",
    "    for i in range(len(x)):\n",
    "        if x[i] == 0:\n",
    "            continue\n",
    "        elif x[i] > 0:\n",
    "            x[i] = 1\n",
    "        else:\n",
    "            print('Wrong.')\n",
    "            return\n",
    "    return x"
   ]
  },
  {
   "cell_type": "code",
   "execution_count": 7,
   "metadata": {},
   "outputs": [],
   "source": [
    "def alg_try(times, required_data, method):\n",
    "    accuracy_score_list = []\n",
    "    recall_score_list = []\n",
    "    precision_score_list = []\n",
    "    f1_score_list = []\n",
    "    for i in range(times):\n",
    "        data_random = np.random.permutation(required_data)\n",
    "        x = data_random[:, 3:]\n",
    "        y = change_to_binary(data_random[:, 1])\n",
    "        x_train, x_test, y_train, y_test = train_test_split(x, y, test_size = 0.2, random_state = 0)\n",
    "        clf = method\n",
    "        clf.fit(x_train, y_train)\n",
    "        y_pre = clf.predict(x_test)\n",
    "        accuracy_score_list.append(accuracy_score(y_test, y_pre))\n",
    "        recall_score_list.append(recall_score(y_test, y_pre))\n",
    "        precision_score_list.append(precision_score(y_test, y_pre))\n",
    "        f1_score_list.append(f1_score(y_test, y_pre))\n",
    "    return [accuracy_score_list, recall_score_list, precision_score_list, f1_score_list, \n",
    "            np.mean(accuracy_score_list), np.mean(recall_score_list), \n",
    "            np.mean(precision_score_list), np.mean(f1_score_list)]"
   ]
  },
  {
   "cell_type": "markdown",
   "metadata": {},
   "source": [
    "## K-nearest neighbors"
   ]
  },
  {
   "cell_type": "code",
   "execution_count": 8,
   "metadata": {},
   "outputs": [
    {
     "data": {
      "text/plain": [
       "[[0.8404907975460123,\n",
       "  0.8419065596979708,\n",
       "  0.8338839075035394,\n",
       "  0.8381311939594148,\n",
       "  0.8489853704577631,\n",
       "  0.8362435110901368,\n",
       "  0.8461538461538461,\n",
       "  0.8244454931571495,\n",
       "  0.8409627182633318,\n",
       "  0.8489853704577631],\n",
       " [0.22955974842767296,\n",
       "  0.2392638036809816,\n",
       "  0.22884012539184953,\n",
       "  0.23624595469255663,\n",
       "  0.21666666666666667,\n",
       "  0.20967741935483872,\n",
       "  0.24444444444444444,\n",
       "  0.18911174785100288,\n",
       "  0.24367088607594936,\n",
       "  0.22330097087378642],\n",
       " [0.4397590361445783,\n",
       "  0.4727272727272727,\n",
       "  0.40782122905027934,\n",
       "  0.40555555555555556,\n",
       "  0.43333333333333335,\n",
       "  0.38922155688622756,\n",
       "  0.4666666666666667,\n",
       "  0.4258064516129032,\n",
       "  0.44,\n",
       "  0.46308724832214765],\n",
       " [0.30165289256198347,\n",
       "  0.31771894093686354,\n",
       "  0.2931726907630522,\n",
       "  0.29856850715746425,\n",
       "  0.2888888888888889,\n",
       "  0.2725366876310273,\n",
       "  0.3208333333333333,\n",
       "  0.26190476190476186,\n",
       "  0.3136456211812627,\n",
       "  0.3013100436681223],\n",
       " 0.8400188768286927,\n",
       " 0.2260781767459749,\n",
       " 0.4343978350298965,\n",
       " 0.297023236802676]"
      ]
     },
     "execution_count": 8,
     "metadata": {},
     "output_type": "execute_result"
    }
   ],
   "source": [
    "alg_try(10, data_new, KNeighborsClassifier())"
   ]
  },
  {
   "cell_type": "markdown",
   "metadata": {},
   "source": [
    "## Naïve Bayes"
   ]
  },
  {
   "cell_type": "code",
   "execution_count": 9,
   "metadata": {},
   "outputs": [
    {
     "data": {
      "text/plain": [
       "[[0.8348277489381783,\n",
       "  0.8409627182633318,\n",
       "  0.8437942425672487,\n",
       "  0.8390750353940538,\n",
       "  0.8456819254365266,\n",
       "  0.8419065596979708,\n",
       "  0.8367154318074563,\n",
       "  0.8480415290231241,\n",
       "  0.8423784804152902,\n",
       "  0.8480415290231241],\n",
       " [0.29780564263322884,\n",
       "  0.28700906344410876,\n",
       "  0.3256578947368421,\n",
       "  0.29393939393939394,\n",
       "  0.3108974358974359,\n",
       "  0.2627986348122867,\n",
       "  0.30618892508143325,\n",
       "  0.29900332225913623,\n",
       "  0.33440514469453375,\n",
       "  0.3108974358974359],\n",
       " [0.4298642533936652,\n",
       "  0.4846938775510204,\n",
       "  0.44,\n",
       "  0.47317073170731705,\n",
       "  0.46411483253588515,\n",
       "  0.39285714285714285,\n",
       "  0.41409691629955947,\n",
       "  0.44776119402985076,\n",
       "  0.45021645021645024,\n",
       "  0.47549019607843135],\n",
       " [0.35185185185185186,\n",
       "  0.3605313092979127,\n",
       "  0.3742911153119093,\n",
       "  0.3626168224299065,\n",
       "  0.3723608445297505,\n",
       "  0.3149284253578732,\n",
       "  0.35205992509363293,\n",
       "  0.35856573705179284,\n",
       "  0.3837638376383764,\n",
       "  0.375968992248062],\n",
       " 0.8421425200566304,\n",
       " 0.3028602893395836,\n",
       " 0.4472265594669322,\n",
       " 0.3606938860811068]"
      ]
     },
     "execution_count": 9,
     "metadata": {},
     "output_type": "execute_result"
    }
   ],
   "source": [
    "alg_try(10, data_new, GaussianNB())"
   ]
  },
  {
   "cell_type": "code",
   "execution_count": 10,
   "metadata": {},
   "outputs": [
    {
     "data": {
      "text/plain": [
       "[[0.6210476639924493,\n",
       "  0.6097215667767815,\n",
       "  0.6186880604058518,\n",
       "  0.6271826333176026,\n",
       "  0.6134969325153374,\n",
       "  0.6116092496460594,\n",
       "  0.6262387918829636,\n",
       "  0.6224634261444077,\n",
       "  0.6172722982538933,\n",
       "  0.6361491269466729],\n",
       " [0.8070175438596491,\n",
       "  0.7523809523809524,\n",
       "  0.7610062893081762,\n",
       "  0.7645161290322581,\n",
       "  0.7941176470588235,\n",
       "  0.7573770491803279,\n",
       "  0.7597402597402597,\n",
       "  0.7785016286644951,\n",
       "  0.7327044025157232,\n",
       "  0.7886904761904762],\n",
       " [0.2724580454096742,\n",
       "  0.24036511156186613,\n",
       "  0.24845995893223818,\n",
       "  0.24842767295597484,\n",
       "  0.24324324324324326,\n",
       "  0.2357142857142857,\n",
       "  0.24579831932773108,\n",
       "  0.24613800205973224,\n",
       "  0.2429614181438999,\n",
       "  0.27461139896373055],\n",
       " [0.407380073800738,\n",
       "  0.36433512682551883,\n",
       "  0.37461300309597517,\n",
       "  0.375,\n",
       "  0.37241379310344824,\n",
       "  0.3595330739299611,\n",
       "  0.37142857142857144,\n",
       "  0.37402190923317685,\n",
       "  0.36491777603758807,\n",
       "  0.40737893927747887],\n",
       " 0.620386974988202,\n",
       " 0.7696052377931142,\n",
       " 0.2498177456312376,\n",
       " 0.37710222667324567]"
      ]
     },
     "execution_count": 10,
     "metadata": {},
     "output_type": "execute_result"
    }
   ],
   "source": [
    "alg_try(10, data_new, BernoulliNB())"
   ]
  },
  {
   "cell_type": "markdown",
   "metadata": {},
   "source": [
    "## Logistic Regression"
   ]
  },
  {
   "cell_type": "code",
   "execution_count": 16,
   "metadata": {},
   "outputs": [
    {
     "name": "stderr",
     "output_type": "stream",
     "text": [
      "C:\\Users\\mrjia\\AppData\\Local\\Continuum\\anaconda3\\lib\\site-packages\\sklearn\\linear_model\\logistic.py:432: FutureWarning: Default solver will be changed to 'lbfgs' in 0.22. Specify a solver to silence this warning.\n",
      "  FutureWarning)\n",
      "C:\\Users\\mrjia\\AppData\\Local\\Continuum\\anaconda3\\lib\\site-packages\\sklearn\\svm\\base.py:929: ConvergenceWarning: Liblinear failed to converge, increase the number of iterations.\n",
      "  \"the number of iterations.\", ConvergenceWarning)\n",
      "C:\\Users\\mrjia\\AppData\\Local\\Continuum\\anaconda3\\lib\\site-packages\\sklearn\\linear_model\\logistic.py:432: FutureWarning: Default solver will be changed to 'lbfgs' in 0.22. Specify a solver to silence this warning.\n",
      "  FutureWarning)\n",
      "C:\\Users\\mrjia\\AppData\\Local\\Continuum\\anaconda3\\lib\\site-packages\\sklearn\\svm\\base.py:929: ConvergenceWarning: Liblinear failed to converge, increase the number of iterations.\n",
      "  \"the number of iterations.\", ConvergenceWarning)\n",
      "C:\\Users\\mrjia\\AppData\\Local\\Continuum\\anaconda3\\lib\\site-packages\\sklearn\\linear_model\\logistic.py:432: FutureWarning: Default solver will be changed to 'lbfgs' in 0.22. Specify a solver to silence this warning.\n",
      "  FutureWarning)\n",
      "C:\\Users\\mrjia\\AppData\\Local\\Continuum\\anaconda3\\lib\\site-packages\\sklearn\\svm\\base.py:929: ConvergenceWarning: Liblinear failed to converge, increase the number of iterations.\n",
      "  \"the number of iterations.\", ConvergenceWarning)\n",
      "C:\\Users\\mrjia\\AppData\\Local\\Continuum\\anaconda3\\lib\\site-packages\\sklearn\\linear_model\\logistic.py:432: FutureWarning: Default solver will be changed to 'lbfgs' in 0.22. Specify a solver to silence this warning.\n",
      "  FutureWarning)\n",
      "C:\\Users\\mrjia\\AppData\\Local\\Continuum\\anaconda3\\lib\\site-packages\\sklearn\\svm\\base.py:929: ConvergenceWarning: Liblinear failed to converge, increase the number of iterations.\n",
      "  \"the number of iterations.\", ConvergenceWarning)\n",
      "C:\\Users\\mrjia\\AppData\\Local\\Continuum\\anaconda3\\lib\\site-packages\\sklearn\\linear_model\\logistic.py:432: FutureWarning: Default solver will be changed to 'lbfgs' in 0.22. Specify a solver to silence this warning.\n",
      "  FutureWarning)\n",
      "C:\\Users\\mrjia\\AppData\\Local\\Continuum\\anaconda3\\lib\\site-packages\\sklearn\\svm\\base.py:929: ConvergenceWarning: Liblinear failed to converge, increase the number of iterations.\n",
      "  \"the number of iterations.\", ConvergenceWarning)\n",
      "C:\\Users\\mrjia\\AppData\\Local\\Continuum\\anaconda3\\lib\\site-packages\\sklearn\\linear_model\\logistic.py:432: FutureWarning: Default solver will be changed to 'lbfgs' in 0.22. Specify a solver to silence this warning.\n",
      "  FutureWarning)\n",
      "C:\\Users\\mrjia\\AppData\\Local\\Continuum\\anaconda3\\lib\\site-packages\\sklearn\\svm\\base.py:929: ConvergenceWarning: Liblinear failed to converge, increase the number of iterations.\n",
      "  \"the number of iterations.\", ConvergenceWarning)\n",
      "C:\\Users\\mrjia\\AppData\\Local\\Continuum\\anaconda3\\lib\\site-packages\\sklearn\\linear_model\\logistic.py:432: FutureWarning: Default solver will be changed to 'lbfgs' in 0.22. Specify a solver to silence this warning.\n",
      "  FutureWarning)\n",
      "C:\\Users\\mrjia\\AppData\\Local\\Continuum\\anaconda3\\lib\\site-packages\\sklearn\\svm\\base.py:929: ConvergenceWarning: Liblinear failed to converge, increase the number of iterations.\n",
      "  \"the number of iterations.\", ConvergenceWarning)\n",
      "C:\\Users\\mrjia\\AppData\\Local\\Continuum\\anaconda3\\lib\\site-packages\\sklearn\\linear_model\\logistic.py:432: FutureWarning: Default solver will be changed to 'lbfgs' in 0.22. Specify a solver to silence this warning.\n",
      "  FutureWarning)\n",
      "C:\\Users\\mrjia\\AppData\\Local\\Continuum\\anaconda3\\lib\\site-packages\\sklearn\\svm\\base.py:929: ConvergenceWarning: Liblinear failed to converge, increase the number of iterations.\n",
      "  \"the number of iterations.\", ConvergenceWarning)\n",
      "C:\\Users\\mrjia\\AppData\\Local\\Continuum\\anaconda3\\lib\\site-packages\\sklearn\\linear_model\\logistic.py:432: FutureWarning: Default solver will be changed to 'lbfgs' in 0.22. Specify a solver to silence this warning.\n",
      "  FutureWarning)\n",
      "C:\\Users\\mrjia\\AppData\\Local\\Continuum\\anaconda3\\lib\\site-packages\\sklearn\\svm\\base.py:929: ConvergenceWarning: Liblinear failed to converge, increase the number of iterations.\n",
      "  \"the number of iterations.\", ConvergenceWarning)\n",
      "C:\\Users\\mrjia\\AppData\\Local\\Continuum\\anaconda3\\lib\\site-packages\\sklearn\\linear_model\\logistic.py:432: FutureWarning: Default solver will be changed to 'lbfgs' in 0.22. Specify a solver to silence this warning.\n",
      "  FutureWarning)\n",
      "C:\\Users\\mrjia\\AppData\\Local\\Continuum\\anaconda3\\lib\\site-packages\\sklearn\\svm\\base.py:929: ConvergenceWarning: Liblinear failed to converge, increase the number of iterations.\n",
      "  \"the number of iterations.\", ConvergenceWarning)\n"
     ]
    },
    {
     "data": {
      "text/plain": [
       "[[0.7031618688060406,\n",
       "  0.7229825389334592,\n",
       "  0.7036337895233601,\n",
       "  0.7064653138272771,\n",
       "  0.7078810759792354,\n",
       "  0.7182633317602642,\n",
       "  0.7239263803680982,\n",
       "  0.6956111373289288,\n",
       "  0.7229825389334592,\n",
       "  0.7210948560641812],\n",
       " [0.7329192546583851,\n",
       "  0.6586102719033232,\n",
       "  0.7142857142857143,\n",
       "  0.75,\n",
       "  0.706060606060606,\n",
       "  0.7217125382262997,\n",
       "  0.7018072289156626,\n",
       "  0.7033333333333334,\n",
       "  0.670846394984326,\n",
       "  0.6962025316455697],\n",
       " [0.3029525032092426,\n",
       "  0.315028901734104,\n",
       "  0.3002610966057441,\n",
       "  0.3189873417721519,\n",
       "  0.3086092715231788,\n",
       "  0.31805929919137466,\n",
       "  0.3240611961057024,\n",
       "  0.27509778357235987,\n",
       "  0.3074712643678161,\n",
       "  0.3076923076923077],\n",
       " [0.4287011807447775,\n",
       "  0.426197458455523,\n",
       "  0.4227941176470589,\n",
       "  0.4476021314387212,\n",
       "  0.4294930875576037,\n",
       "  0.44153414405986907,\n",
       "  0.44338725023786874,\n",
       "  0.3955014058106842,\n",
       "  0.4216748768472906,\n",
       "  0.42677012609117365],\n",
       " 0.7126002831524304,\n",
       " 0.705577787401322,\n",
       " 0.30782209657739823,\n",
       " 0.42836557788905705]"
      ]
     },
     "execution_count": 16,
     "metadata": {},
     "output_type": "execute_result"
    }
   ],
   "source": [
    "alg_try(10, data_new, LogisticRegression(class_weight={0: 0.125, 1: 0.875}))"
   ]
  },
  {
   "cell_type": "markdown",
   "metadata": {},
   "source": [
    "## Decision Tree"
   ]
  },
  {
   "cell_type": "code",
   "execution_count": 21,
   "metadata": {},
   "outputs": [
    {
     "data": {
      "text/plain": [
       "[[0.8013213780084946,\n",
       "  0.7833883907503539,\n",
       "  0.8065125058990089,\n",
       "  0.7999056158565361,\n",
       "  0.8069844266163284,\n",
       "  0.7951864086833412,\n",
       "  0.7970740915526192,\n",
       "  0.8079282680509674,\n",
       "  0.7975460122699386,\n",
       "  0.8008494572911751],\n",
       " [0.33430232558139533,\n",
       "  0.33762057877813506,\n",
       "  0.3431372549019608,\n",
       "  0.36923076923076925,\n",
       "  0.3787878787878788,\n",
       "  0.37216828478964403,\n",
       "  0.3333333333333333,\n",
       "  0.3825301204819277,\n",
       "  0.3717948717948718,\n",
       "  0.3384146341463415],\n",
       " [0.3745928338762215,\n",
       "  0.29329608938547486,\n",
       "  0.3343949044585987,\n",
       "  0.35398230088495575,\n",
       "  0.3799392097264438,\n",
       "  0.323943661971831,\n",
       "  0.33126934984520123,\n",
       "  0.3860182370820669,\n",
       "  0.332378223495702,\n",
       "  0.3512658227848101],\n",
       " [0.3533026113671275,\n",
       "  0.31390134529147984,\n",
       "  0.33870967741935487,\n",
       "  0.36144578313253006,\n",
       "  0.37936267071320184,\n",
       "  0.3463855421686747,\n",
       "  0.3322981366459627,\n",
       "  0.3842662632375189,\n",
       "  0.35098335854765506,\n",
       "  0.3447204968944099],\n",
       " 0.7996696554978764,\n",
       " 0.3561320051826257,\n",
       " 0.3461080633511306,\n",
       " 0.3505375885417915]"
      ]
     },
     "execution_count": 21,
     "metadata": {},
     "output_type": "execute_result"
    }
   ],
   "source": [
    "alg_try(10, data_new, DecisionTreeClassifier())"
   ]
  },
  {
   "cell_type": "markdown",
   "metadata": {},
   "source": [
    "## Neural Networks  "
   ]
  },
  {
   "cell_type": "code",
   "execution_count": 80,
   "metadata": {},
   "outputs": [],
   "source": [
    "def alg_try_sm(times, required_data, method):\n",
    "    accuracy_score_list = []\n",
    "    recall_score_list = []\n",
    "    precision_score_list = []\n",
    "    f1_score_list = []\n",
    "    for i in range(times):\n",
    "        data_random = np.random.permutation(required_data)\n",
    "        x = data_random[:, 3:]\n",
    "        y = change_to_binary(data_random[:, 1])\n",
    "        x_train, x_test, y_train, y_test = train_test_split(x, y, test_size = 0.2, random_state = 0)\n",
    "        sm = SMOTE()\n",
    "        x_train_new, y_train_new = sm.fit_resample(x_train, y_train)\n",
    "        clf = method\n",
    "        clf.fit(x_train_new, y_train_new)\n",
    "        y_pre = clf.predict(x_test)\n",
    "        accuracy_score_list.append(accuracy_score(y_test, y_pre))\n",
    "        recall_score_list.append(recall_score(y_test, y_pre))\n",
    "        precision_score_list.append(precision_score(y_test, y_pre))\n",
    "        f1_score_list.append(f1_score(y_test, y_pre))\n",
    "    return [accuracy_score_list, recall_score_list, precision_score_list, f1_score_list, \n",
    "            np.mean(accuracy_score_list), np.mean(recall_score_list), \n",
    "            np.mean(precision_score_list), np.mean(f1_score_list)]"
   ]
  },
  {
   "cell_type": "code",
   "execution_count": 81,
   "metadata": {},
   "outputs": [
    {
     "name": "stderr",
     "output_type": "stream",
     "text": [
      "C:\\Users\\mrjia\\AppData\\Local\\Continuum\\anaconda3\\lib\\site-packages\\sklearn\\neural_network\\multilayer_perceptron.py:566: ConvergenceWarning: Stochastic Optimizer: Maximum iterations (200) reached and the optimization hasn't converged yet.\n",
      "  % self.max_iter, ConvergenceWarning)\n",
      "C:\\Users\\mrjia\\AppData\\Local\\Continuum\\anaconda3\\lib\\site-packages\\sklearn\\neural_network\\multilayer_perceptron.py:566: ConvergenceWarning: Stochastic Optimizer: Maximum iterations (200) reached and the optimization hasn't converged yet.\n",
      "  % self.max_iter, ConvergenceWarning)\n"
     ]
    },
    {
     "data": {
      "text/plain": [
       "[[0.7711184521000471,\n",
       "  0.7645115620575743,\n",
       "  0.7347805568664464,\n",
       "  0.7914110429447853,\n",
       "  0.7404436054742803,\n",
       "  0.732420953279849,\n",
       "  0.6956111373289288,\n",
       "  0.7479943369513922,\n",
       "  0.6479471448796602,\n",
       "  0.7371401604530439],\n",
       " [0.4862068965517241,\n",
       "  0.645367412140575,\n",
       "  0.6171617161716172,\n",
       "  0.6021505376344086,\n",
       "  0.5785953177257525,\n",
       "  0.5894039735099338,\n",
       "  0.7207792207792207,\n",
       "  0.6451612903225806,\n",
       "  0.7516129032258064,\n",
       "  0.6148648648648649],\n",
       " [0.29559748427672955,\n",
       "  0.3423728813559322,\n",
       "  0.29541864139020535,\n",
       "  0.3366733466933868,\n",
       "  0.2897822445561139,\n",
       "  0.286634460547504,\n",
       "  0.28425096030729835,\n",
       "  0.32051282051282054,\n",
       "  0.2583148558758315,\n",
       "  0.2912],\n",
       " [0.36766623207301175,\n",
       "  0.4473975636766334,\n",
       "  0.39957264957264954,\n",
       "  0.4318766066838046,\n",
       "  0.38616071428571425,\n",
       "  0.3856988082340195,\n",
       "  0.4077134986225895,\n",
       "  0.4282655246252677,\n",
       "  0.3844884488448845,\n",
       "  0.3952225841476656],\n",
       " 0.7363378952336007,\n",
       " 0.6251304132926485,\n",
       " 0.3000757695515822,\n",
       " 0.4034062630766241]"
      ]
     },
     "execution_count": 81,
     "metadata": {},
     "output_type": "execute_result"
    }
   ],
   "source": [
    "alg_try_sm(10, data_new, MLPClassifier(hidden_layer_sizes=(50, 50)))"
   ]
  },
  {
   "cell_type": "code",
   "execution_count": null,
   "metadata": {},
   "outputs": [],
   "source": []
  }
 ],
 "metadata": {
  "kernelspec": {
   "display_name": "Python 3",
   "language": "python",
   "name": "python3"
  },
  "language_info": {
   "codemirror_mode": {
    "name": "ipython",
    "version": 3
   },
   "file_extension": ".py",
   "mimetype": "text/x-python",
   "name": "python",
   "nbconvert_exporter": "python",
   "pygments_lexer": "ipython3",
   "version": "3.7.1"
  }
 },
 "nbformat": 4,
 "nbformat_minor": 2
}
