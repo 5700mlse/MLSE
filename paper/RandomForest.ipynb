{
 "cells": [
  {
   "cell_type": "code",
   "execution_count": 1,
   "metadata": {},
   "outputs": [],
   "source": [
    "import numpy as np\n",
    "import pandas as pd\n",
    "from sklearn.metrics import accuracy_score  \n",
    "from sklearn.metrics import recall_score  \n",
    "from sklearn.metrics import precision_score\n",
    "from sklearn.metrics import f1_score\n",
    "from sklearn.model_selection import GridSearchCV\n",
    "from sklearn.ensemble import RandomForestClassifier\n",
    "from sklearn.model_selection import train_test_split\n",
    "from sklearn import svm\n",
    "from sklearn.neural_network import MLPClassifier\n",
    "from sklearn.ensemble import AdaBoostClassifier\n",
    "from sklearn.linear_model import LogisticRegression \n",
    "from sklearn import neighbors\n",
    "from sklearn import tree\n",
    "from sklearn.ensemble import GradientBoostingClassifier\n",
    "from sklearn.neighbors import KNeighborsClassifier\n",
    "from sklearn.naive_bayes import GaussianNB\n",
    "from sklearn.naive_bayes import BernoulliNB\n",
    "import matplotlib.pyplot as plt"
   ]
  },
  {
   "cell_type": "code",
   "execution_count": 2,
   "metadata": {},
   "outputs": [],
   "source": [
    "def get_the_predicted_bugs(name, num1, num2):\n",
    "    All_Data = pd.read_csv(name, usecols = [i for i in range(num1, num2)]).values\n",
    "    return All_Data"
   ]
  },
  {
   "cell_type": "code",
   "execution_count": 3,
   "metadata": {},
   "outputs": [],
   "source": [
    "data = get_the_predicted_bugs('modified-eclipse-metrics-files-3.0.csv', 2, 202)"
   ]
  },
  {
   "cell_type": "markdown",
   "metadata": {},
   "source": [
    "## RandomForest"
   ]
  },
  {
   "cell_type": "markdown",
   "metadata": {},
   "source": [
    "## best accuracy_score¶"
   ]
  },
  {
   "cell_type": "code",
   "execution_count": 4,
   "metadata": {},
   "outputs": [],
   "source": [
    "def change_to_binary(x):\n",
    "    for i in range(len(x)):\n",
    "        if x[i] == 0:\n",
    "            continue\n",
    "        elif x[i] > 0:\n",
    "            x[i] = 1\n",
    "        else:\n",
    "            print('Wrong.')\n",
    "            return\n",
    "    return x"
   ]
  },
  {
   "cell_type": "code",
   "execution_count": 5,
   "metadata": {},
   "outputs": [],
   "source": [
    "data_random = np.random.permutation(data)\n",
    "x = data_random[:, 3:]\n",
    "y = change_to_binary(data_random[:, 1]) #post\n",
    "x_train, x_test, y_train, y_test = train_test_split(x, y, test_size = 0.2, random_state = 0)\n",
    "rf_clf = RandomForestClassifier()"
   ]
  },
  {
   "cell_type": "code",
   "execution_count": 6,
   "metadata": {},
   "outputs": [],
   "source": [
    "param_grid = [{'n_estimators': [1, 200],\n",
    "               'criterion': ['gini', 'entropy']}]\n",
    "\n",
    "grid_search = GridSearchCV(rf_clf, param_grid, scoring = 'accuracy', n_jobs = -1, cv = 5)"
   ]
  },
  {
   "cell_type": "code",
   "execution_count": 7,
   "metadata": {},
   "outputs": [
    {
     "data": {
      "text/plain": [
       "GridSearchCV(cv=5, error_score='raise',\n",
       "       estimator=RandomForestClassifier(bootstrap=True, class_weight=None, criterion='gini',\n",
       "            max_depth=None, max_features='auto', max_leaf_nodes=None,\n",
       "            min_impurity_decrease=0.0, min_impurity_split=None,\n",
       "            min_samples_leaf=1, min_samples_split=2,\n",
       "            min_weight_fraction_leaf=0.0, n_estimators=10, n_jobs=1,\n",
       "            oob_score=False, random_state=None, verbose=0,\n",
       "            warm_start=False),\n",
       "       fit_params=None, iid=True, n_jobs=-1,\n",
       "       param_grid=[{'n_estimators': [1, 200], 'criterion': ['gini', 'entropy']}],\n",
       "       pre_dispatch='2*n_jobs', refit=True, return_train_score='warn',\n",
       "       scoring='accuracy', verbose=0)"
      ]
     },
     "execution_count": 7,
     "metadata": {},
     "output_type": "execute_result"
    }
   ],
   "source": [
    "grid_search.fit(x_train, y_train)"
   ]
  },
  {
   "cell_type": "code",
   "execution_count": 8,
   "metadata": {},
   "outputs": [
    {
     "data": {
      "text/plain": [
       "{'criterion': 'entropy', 'n_estimators': 200}"
      ]
     },
     "execution_count": 8,
     "metadata": {},
     "output_type": "execute_result"
    }
   ],
   "source": [
    "grid_search.best_params_"
   ]
  },
  {
   "cell_type": "code",
   "execution_count": 9,
   "metadata": {},
   "outputs": [
    {
     "data": {
      "text/plain": [
       "RandomForestClassifier(bootstrap=True, class_weight=None, criterion='entropy',\n",
       "            max_depth=None, max_features='auto', max_leaf_nodes=None,\n",
       "            min_impurity_decrease=0.0, min_impurity_split=None,\n",
       "            min_samples_leaf=1, min_samples_split=2,\n",
       "            min_weight_fraction_leaf=0.0, n_estimators=200, n_jobs=1,\n",
       "            oob_score=False, random_state=None, verbose=0,\n",
       "            warm_start=False)"
      ]
     },
     "execution_count": 9,
     "metadata": {},
     "output_type": "execute_result"
    }
   ],
   "source": [
    "grid_search.best_estimator_"
   ]
  },
  {
   "cell_type": "code",
   "execution_count": 10,
   "metadata": {},
   "outputs": [
    {
     "data": {
      "text/plain": [
       "(0.8763567720622936,\n",
       " 0.21739130434782608,\n",
       " 0.6989247311827957,\n",
       " 0.33163265306122447)"
      ]
     },
     "execution_count": 10,
     "metadata": {},
     "output_type": "execute_result"
    }
   ],
   "source": [
    "y_pre = grid_search.best_estimator_.predict(x_test)\n",
    "accuracy_score(y_test, y_pre), recall_score(y_test, y_pre), precision_score(y_test, y_pre), f1_score(y_test, y_pre)"
   ]
  },
  {
   "cell_type": "markdown",
   "metadata": {},
   "source": [
    "## Get the average"
   ]
  },
  {
   "cell_type": "code",
   "execution_count": 13,
   "metadata": {},
   "outputs": [
    {
     "name": "stdout",
     "output_type": "stream",
     "text": [
      "0\n",
      "1\n",
      "2\n",
      "3\n",
      "4\n",
      "5\n",
      "6\n",
      "7\n",
      "8\n",
      "9\n"
     ]
    }
   ],
   "source": [
    "accuracy_score_list = []\n",
    "recall_score_list = []\n",
    "precision_score_list = []\n",
    "f1_score_list = []\n",
    "for i in range(10):\n",
    "    data_random = np.random.permutation(data)\n",
    "    x = data_random[:, 3:]\n",
    "    y = change_to_binary(data_random[:, 1])\n",
    "    x_train, x_test, y_train, y_test = train_test_split(x, y, test_size = 0.4, random_state = 0)\n",
    "    rf_clf = RandomForestClassifier(n_estimators = 200, criterion = 'entropy')\n",
    "    rf_clf.fit(x_train, y_train)\n",
    "    y_pre = rf_clf.predict(x_test)\n",
    "    accuracy_score_list.append(accuracy_score(y_test, y_pre))\n",
    "    recall_score_list.append(recall_score(y_test, y_pre))\n",
    "    precision_score_list.append(precision_score(y_test, y_pre))\n",
    "    f1_score_list.append(f1_score(y_test, y_pre))\n",
    "    print(i)"
   ]
  },
  {
   "cell_type": "code",
   "execution_count": 14,
   "metadata": {},
   "outputs": [
    {
     "data": {
      "text/plain": [
       "([0.8702218027371401,\n",
       "  0.8709296838131194,\n",
       "  0.8659745162812648,\n",
       "  0.8718735252477584,\n",
       "  0.8716375648890986,\n",
       "  0.8678621991505427,\n",
       "  0.8636149126946673,\n",
       "  0.8704577630957999,\n",
       "  0.866682397357244,\n",
       "  0.8673902784332232],\n",
       " 0.8686644643699857)"
      ]
     },
     "execution_count": 14,
     "metadata": {},
     "output_type": "execute_result"
    }
   ],
   "source": [
    "accuracy_score_list, np.mean(accuracy_score_list)"
   ]
  },
  {
   "cell_type": "code",
   "execution_count": 15,
   "metadata": {},
   "outputs": [
    {
     "data": {
      "text/plain": [
       "([0.18284789644012944,\n",
       "  0.19773095623987033,\n",
       "  0.19592476489028213,\n",
       "  0.21207177814029363,\n",
       "  0.20385232744783308,\n",
       "  0.1952755905511811,\n",
       "  0.21124620060790272,\n",
       "  0.2161741835147745,\n",
       "  0.21044546850998463,\n",
       "  0.19554848966613672],\n",
       " 0.20211176560083882)"
      ]
     },
     "execution_count": 15,
     "metadata": {},
     "output_type": "execute_result"
    }
   ],
   "source": [
    "recall_score_list, np.mean(recall_score_list)"
   ]
  },
  {
   "cell_type": "code",
   "execution_count": 16,
   "metadata": {},
   "outputs": [
    {
     "data": {
      "text/plain": [
       "([0.7151898734177216,\n",
       "  0.7011494252873564,\n",
       "  0.6944444444444444,\n",
       "  0.6842105263157895,\n",
       "  0.7257142857142858,\n",
       "  0.7167630057803468,\n",
       "  0.702020202020202,\n",
       "  0.7554347826086957,\n",
       "  0.7287234042553191,\n",
       "  0.6871508379888268],\n",
       " 0.7110800787832988)"
      ]
     },
     "execution_count": 16,
     "metadata": {},
     "output_type": "execute_result"
    }
   ],
   "source": [
    "precision_score_list, np.mean(precision_score_list)"
   ]
  },
  {
   "cell_type": "code",
   "execution_count": 17,
   "metadata": {},
   "outputs": [
    {
     "data": {
      "text/plain": [
       "([0.2912371134020618,\n",
       "  0.30847029077117566,\n",
       "  0.3056234718826406,\n",
       "  0.323785803237858,\n",
       "  0.31829573934837097,\n",
       "  0.3069306930693069,\n",
       "  0.32476635514018687,\n",
       "  0.3361547762998791,\n",
       "  0.32657926102502977,\n",
       "  0.30445544554455445],\n",
       " 0.31462989497210647)"
      ]
     },
     "execution_count": 17,
     "metadata": {},
     "output_type": "execute_result"
    }
   ],
   "source": [
    "f1_score_list, np.mean(f1_score_list)"
   ]
  },
  {
   "cell_type": "markdown",
   "metadata": {},
   "source": [
    "## best f1_score¶"
   ]
  },
  {
   "cell_type": "code",
   "execution_count": 18,
   "metadata": {},
   "outputs": [],
   "source": [
    "def change_to_binary(x):\n",
    "    for i in range(len(x)):\n",
    "        if x[i] == 0:\n",
    "            continue\n",
    "        elif x[i] > 0:\n",
    "            x[i] = 1\n",
    "        else:\n",
    "            print('Wrong.')\n",
    "            return\n",
    "    return x"
   ]
  },
  {
   "cell_type": "code",
   "execution_count": 19,
   "metadata": {},
   "outputs": [],
   "source": [
    "data_random = np.random.permutation(data)\n",
    "x = data_random[:, 3:]\n",
    "y = change_to_binary(data_random[:, 1]) #post\n",
    "x_train, x_test, y_train, y_test = train_test_split(x, y, test_size = 0.2, random_state = 0)\n",
    "rf_clf = RandomForestClassifier()"
   ]
  },
  {
   "cell_type": "code",
   "execution_count": 20,
   "metadata": {},
   "outputs": [],
   "source": [
    "param_grid = [{'n_estimators': [1, 200],\n",
    "               'criterion': ['gini', 'entropy']}]\n",
    "\n",
    "grid_search = GridSearchCV(rf_clf, param_grid, scoring = 'f1', n_jobs = -1, cv = 5)"
   ]
  },
  {
   "cell_type": "code",
   "execution_count": 21,
   "metadata": {},
   "outputs": [
    {
     "data": {
      "text/plain": [
       "GridSearchCV(cv=5, error_score='raise',\n",
       "       estimator=RandomForestClassifier(bootstrap=True, class_weight=None, criterion='gini',\n",
       "            max_depth=None, max_features='auto', max_leaf_nodes=None,\n",
       "            min_impurity_decrease=0.0, min_impurity_split=None,\n",
       "            min_samples_leaf=1, min_samples_split=2,\n",
       "            min_weight_fraction_leaf=0.0, n_estimators=10, n_jobs=1,\n",
       "            oob_score=False, random_state=None, verbose=0,\n",
       "            warm_start=False),\n",
       "       fit_params=None, iid=True, n_jobs=-1,\n",
       "       param_grid=[{'n_estimators': [1, 200], 'criterion': ['gini', 'entropy']}],\n",
       "       pre_dispatch='2*n_jobs', refit=True, return_train_score='warn',\n",
       "       scoring='f1', verbose=0)"
      ]
     },
     "execution_count": 21,
     "metadata": {},
     "output_type": "execute_result"
    }
   ],
   "source": [
    "grid_search.fit(x_train, y_train)"
   ]
  },
  {
   "cell_type": "code",
   "execution_count": 22,
   "metadata": {},
   "outputs": [
    {
     "data": {
      "text/plain": [
       "{'criterion': 'entropy', 'n_estimators': 1}"
      ]
     },
     "execution_count": 22,
     "metadata": {},
     "output_type": "execute_result"
    }
   ],
   "source": [
    "grid_search.best_params_"
   ]
  },
  {
   "cell_type": "code",
   "execution_count": 23,
   "metadata": {},
   "outputs": [
    {
     "data": {
      "text/plain": [
       "RandomForestClassifier(bootstrap=True, class_weight=None, criterion='entropy',\n",
       "            max_depth=None, max_features='auto', max_leaf_nodes=None,\n",
       "            min_impurity_decrease=0.0, min_impurity_split=None,\n",
       "            min_samples_leaf=1, min_samples_split=2,\n",
       "            min_weight_fraction_leaf=0.0, n_estimators=1, n_jobs=1,\n",
       "            oob_score=False, random_state=None, verbose=0,\n",
       "            warm_start=False)"
      ]
     },
     "execution_count": 23,
     "metadata": {},
     "output_type": "execute_result"
    }
   ],
   "source": [
    "grid_search.best_estimator_"
   ]
  },
  {
   "cell_type": "code",
   "execution_count": 24,
   "metadata": {},
   "outputs": [
    {
     "data": {
      "text/plain": [
       "(0.8164228409627182,\n",
       " 0.3310344827586207,\n",
       " 0.32989690721649484,\n",
       " 0.3304647160068847)"
      ]
     },
     "execution_count": 24,
     "metadata": {},
     "output_type": "execute_result"
    }
   ],
   "source": [
    "y_pre = grid_search.best_estimator_.predict(x_test)\n",
    "accuracy_score(y_test, y_pre), recall_score(y_test, y_pre), precision_score(y_test, y_pre), f1_score(y_test, y_pre)"
   ]
  },
  {
   "cell_type": "markdown",
   "metadata": {},
   "source": [
    "## Get the average"
   ]
  },
  {
   "cell_type": "code",
   "execution_count": 25,
   "metadata": {},
   "outputs": [
    {
     "name": "stdout",
     "output_type": "stream",
     "text": [
      "0\n",
      "1\n",
      "2\n",
      "3\n",
      "4\n",
      "5\n",
      "6\n",
      "7\n",
      "8\n",
      "9\n"
     ]
    }
   ],
   "source": [
    "accuracy_score_list = []\n",
    "recall_score_list = []\n",
    "precision_score_list = []\n",
    "f1_score_list = []\n",
    "for i in range(10):\n",
    "    data_random = np.random.permutation(data)\n",
    "    x = data_random[:, 3:]\n",
    "    y = change_to_binary(data_random[:, 1])\n",
    "    x_train, x_test, y_train, y_test = train_test_split(x, y, test_size = 0.4, random_state = 0)\n",
    "    rf_clf = RandomForestClassifier(n_estimators = 1, criterion = 'entropy')\n",
    "    rf_clf.fit(x_train, y_train)\n",
    "    y_pre = rf_clf.predict(x_test)\n",
    "    accuracy_score_list.append(accuracy_score(y_test, y_pre))\n",
    "    recall_score_list.append(recall_score(y_test, y_pre))\n",
    "    precision_score_list.append(precision_score(y_test, y_pre))\n",
    "    f1_score_list.append(f1_score(y_test, y_pre))\n",
    "    print(i)"
   ]
  },
  {
   "cell_type": "code",
   "execution_count": 26,
   "metadata": {},
   "outputs": [
    {
     "data": {
      "text/plain": [
       "([0.7973100519112789,\n",
       "  0.8041529023124115,\n",
       "  0.7930627654554034,\n",
       "  0.7907031618688061,\n",
       "  0.8022652194431336,\n",
       "  0.8107597923548844,\n",
       "  0.7961302501179802,\n",
       "  0.8017932987258141,\n",
       "  0.8032090608777726,\n",
       "  0.8006134969325154],\n",
       " 0.8)"
      ]
     },
     "execution_count": 26,
     "metadata": {},
     "output_type": "execute_result"
    }
   ],
   "source": [
    "accuracy_score_list, np.mean(accuracy_score_list)"
   ]
  },
  {
   "cell_type": "code",
   "execution_count": 27,
   "metadata": {},
   "outputs": [
    {
     "data": {
      "text/plain": [
       "([0.3135048231511254,\n",
       "  0.3387096774193548,\n",
       "  0.324031007751938,\n",
       "  0.3290529695024077,\n",
       "  0.3511326860841424,\n",
       "  0.30491803278688523,\n",
       "  0.30612244897959184,\n",
       "  0.33056478405315615,\n",
       "  0.3703071672354949,\n",
       "  0.3306581059390048],\n",
       " 0.3299001702903101)"
      ]
     },
     "execution_count": 27,
     "metadata": {},
     "output_type": "execute_result"
    }
   ],
   "source": [
    "recall_score_list, np.mean(recall_score_list)"
   ]
  },
  {
   "cell_type": "code",
   "execution_count": 28,
   "metadata": {},
   "outputs": [
    {
     "data": {
      "text/plain": [
       "([0.31100478468899523,\n",
       "  0.3333333333333333,\n",
       "  0.32153846153846155,\n",
       "  0.30415430267062316,\n",
       "  0.3318042813455658,\n",
       "  0.32978723404255317,\n",
       "  0.3160453808752026,\n",
       "  0.3128930817610063,\n",
       "  0.3181818181818182,\n",
       "  0.3249211356466877],\n",
       " 0.32036638140842466)"
      ]
     },
     "execution_count": 28,
     "metadata": {},
     "output_type": "execute_result"
    }
   ],
   "source": [
    "precision_score_list, np.mean(precision_score_list)"
   ]
  },
  {
   "cell_type": "code",
   "execution_count": 29,
   "metadata": {},
   "outputs": [
    {
     "data": {
      "text/plain": [
       "([0.3122497998398719,\n",
       "  0.33599999999999997,\n",
       "  0.3227799227799228,\n",
       "  0.3161141094834233,\n",
       "  0.34119496855345915,\n",
       "  0.31686541737649065,\n",
       "  0.31100478468899523,\n",
       "  0.32148626817447495,\n",
       "  0.3422712933753943,\n",
       "  0.32776451869530626],\n",
       " 0.3247731082967339)"
      ]
     },
     "execution_count": 29,
     "metadata": {},
     "output_type": "execute_result"
    }
   ],
   "source": [
    "f1_score_list, np.mean(f1_score_list)"
   ]
  }
 ],
 "metadata": {
  "kernelspec": {
   "display_name": "Python 3",
   "language": "python",
   "name": "python3"
  },
  "language_info": {
   "codemirror_mode": {
    "name": "ipython",
    "version": 3
   },
   "file_extension": ".py",
   "mimetype": "text/x-python",
   "name": "python",
   "nbconvert_exporter": "python",
   "pygments_lexer": "ipython3",
   "version": "3.6.5"
  }
 },
 "nbformat": 4,
 "nbformat_minor": 2
}
